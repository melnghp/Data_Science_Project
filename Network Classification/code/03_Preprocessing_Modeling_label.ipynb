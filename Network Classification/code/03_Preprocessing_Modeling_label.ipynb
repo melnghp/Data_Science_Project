{
 "cells": [
  {
   "cell_type": "markdown",
   "id": "bde281bc",
   "metadata": {},
   "source": [
    "<img src=\"http://imgur.com/1ZcRyrc.png\" style=\"float: left; margin: 20px; height: 55px\">\n",
    "\n",
    "# Capstone: Network Traffic Classification"
   ]
  },
  {
   "cell_type": "markdown",
   "id": "32352724",
   "metadata": {},
   "source": [
    "**Project notebooks:**<br>\n",
    "1 - [Data Import and Cleansing](./01_Data_import_cleaning)<br>\n",
    "2 - [Exploratory Data Analysis](./02_EDA)<br>\n",
    "3 - Preprocessing and Modeling(current notebook)"
   ]
  },
  {
   "cell_type": "markdown",
   "id": "f8e47866",
   "metadata": {},
   "source": [
    "### Data import"
   ]
  },
  {
   "cell_type": "code",
   "execution_count": 1,
   "id": "02e0c3fc",
   "metadata": {},
   "outputs": [],
   "source": [
    "import pandas as pd\n",
    "import matplotlib.pyplot as plt\n",
    "import numpy as np\n",
    "import seaborn as sns\n",
    "import joblib\n",
    "import shap\n",
    "\n",
    "pd.set_option('display.max_columns', None)"
   ]
  },
  {
   "cell_type": "code",
   "execution_count": 2,
   "id": "421f9f2c",
   "metadata": {},
   "outputs": [],
   "source": [
    "#load dataset \n",
    "train = joblib.load('../dataset/s1_final_train.pickle')\n",
    "test = joblib.load('../dataset/s1_final_test.pickle')"
   ]
  },
  {
   "cell_type": "code",
   "execution_count": 3,
   "id": "eb63045c",
   "metadata": {},
   "outputs": [
    {
     "data": {
      "text/plain": [
       "(103158, 33)"
      ]
     },
     "metadata": {},
     "output_type": "display_data"
    },
    {
     "data": {
      "text/plain": [
       "(928137, 33)"
      ]
     },
     "metadata": {},
     "output_type": "display_data"
    }
   ],
   "source": [
    "display(train.shape)\n",
    "display(test.shape)"
   ]
  },
  {
   "cell_type": "markdown",
   "id": "83807cb1",
   "metadata": {},
   "source": [
    "### Pre-processing"
   ]
  },
  {
   "cell_type": "code",
   "execution_count": 4,
   "id": "a9a851de",
   "metadata": {},
   "outputs": [],
   "source": [
    "from sklearn.model_selection import train_test_split, GridSearchCV\n",
    "from sklearn.preprocessing import MinMaxScaler, OneHotEncoder\n",
    "from imblearn.over_sampling import SMOTE"
   ]
  },
  {
   "cell_type": "code",
   "execution_count": 5,
   "id": "0d6cb721",
   "metadata": {},
   "outputs": [
    {
     "data": {
      "text/plain": [
       "(103158, 32)"
      ]
     },
     "metadata": {},
     "output_type": "display_data"
    },
    {
     "data": {
      "text/plain": [
       "(103158,)"
      ]
     },
     "metadata": {},
     "output_type": "display_data"
    },
    {
     "data": {
      "text/plain": [
       "(928137, 32)"
      ]
     },
     "metadata": {},
     "output_type": "display_data"
    },
    {
     "data": {
      "text/plain": [
       "(928137,)"
      ]
     },
     "metadata": {},
     "output_type": "display_data"
    }
   ],
   "source": [
    "# Create X and y\n",
    "X = train.drop(['label'], axis=1)\n",
    "y = train['label']\n",
    "\n",
    "test_x = test.drop(['label'], axis=1)\n",
    "test_y = test['label']\n",
    "\n",
    "display(X.shape, y.shape)\n",
    "display(test_x.shape, test_y.shape)"
   ]
  },
  {
   "cell_type": "code",
   "execution_count": 6,
   "id": "15fbc327",
   "metadata": {},
   "outputs": [],
   "source": [
    "# Create train/test splits\n",
    "X_train, X_test, y_train, y_test = train_test_split(X, y, test_size=0.3, stratify = y, random_state=42)"
   ]
  },
  {
   "cell_type": "code",
   "execution_count": 7,
   "id": "1e421e8d",
   "metadata": {},
   "outputs": [
    {
     "data": {
      "text/plain": [
       "(72210, 32)"
      ]
     },
     "metadata": {},
     "output_type": "display_data"
    },
    {
     "data": {
      "text/plain": [
       "(30948, 32)"
      ]
     },
     "metadata": {},
     "output_type": "display_data"
    },
    {
     "data": {
      "text/plain": [
       "(72210,)"
      ]
     },
     "metadata": {},
     "output_type": "display_data"
    },
    {
     "data": {
      "text/plain": [
       "(30948,)"
      ]
     },
     "metadata": {},
     "output_type": "display_data"
    }
   ],
   "source": [
    "display(X_train.shape, X_test.shape, y_train.shape, y_test.shape)"
   ]
  },
  {
   "cell_type": "markdown",
   "id": "3005fcf1",
   "metadata": {},
   "source": [
    "### Baseline accuracy"
   ]
  },
  {
   "cell_type": "code",
   "execution_count": 8,
   "id": "e0e9799d",
   "metadata": {},
   "outputs": [
    {
     "data": {
      "text/plain": [
       "0    0.916117\n",
       "1    0.083883\n",
       "Name: label, dtype: float64"
      ]
     },
     "execution_count": 8,
     "metadata": {},
     "output_type": "execute_result"
    }
   ],
   "source": [
    "y_test.value_counts(normalize=True)"
   ]
  },
  {
   "cell_type": "code",
   "execution_count": 9,
   "id": "5b08ebc5",
   "metadata": {},
   "outputs": [],
   "source": [
    "#dummy categorical cols\n",
    "enc = OneHotEncoder(handle_unknown=\"ignore\", sparse=False)\n",
    "\n",
    "enc.fit(X_train.select_dtypes(include=\"object\"))\n",
    "\n",
    "enc_X_train = pd.DataFrame(\n",
    "    enc.transform(X_train.select_dtypes(include=\"object\")),\n",
    "    columns=enc.get_feature_names_out(),\n",
    ")\n",
    "\n",
    "enc_X_test = pd.DataFrame(\n",
    "    enc.transform(X_test.select_dtypes(include=\"object\")),\n",
    "    columns=enc.get_feature_names_out(),\n",
    ")\n",
    "\n",
    "enc_X_train.index = X_train.index\n",
    "enc_X_test.index = X_test.index"
   ]
  },
  {
   "cell_type": "code",
   "execution_count": 11,
   "id": "ce5dd0d5",
   "metadata": {},
   "outputs": [
    {
     "data": {
      "text/plain": [
       "(72210, 15)"
      ]
     },
     "metadata": {},
     "output_type": "display_data"
    },
    {
     "data": {
      "text/plain": [
       "(30948, 15)"
      ]
     },
     "metadata": {},
     "output_type": "display_data"
    }
   ],
   "source": [
    "display(enc_X_train.shape)\n",
    "display(enc_X_test.shape)"
   ]
  },
  {
   "cell_type": "code",
   "execution_count": 12,
   "id": "cbcf294a",
   "metadata": {},
   "outputs": [],
   "source": [
    "# Scale numerical cols\n",
    "MMsc = MinMaxScaler()\n",
    "MMsc.fit(X_train.select_dtypes(exclude=object))\n",
    "\n",
    "MM_X_train = pd.DataFrame(MMsc.transform(X_train.select_dtypes(exclude=object)),\n",
    "    columns=MMsc.get_feature_names_out())\n",
    "\n",
    "MM_X_test = pd.DataFrame(MMsc.transform(X_test.select_dtypes(exclude=object)),\n",
    "    columns=MMsc.get_feature_names_out())\n",
    "\n",
    "MM_X_train.index = X_train.index\n",
    "MM_X_test.index = X_test.index"
   ]
  },
  {
   "cell_type": "code",
   "execution_count": 13,
   "id": "ea153bc9",
   "metadata": {},
   "outputs": [],
   "source": [
    "#combine df for MinMax Scalar\n",
    "new_X_train = pd.concat([enc_X_train, MM_X_train], axis=1)\n",
    "new_X_test = pd.concat([enc_X_test, MM_X_test], axis=1)"
   ]
  },
  {
   "cell_type": "code",
   "execution_count": 14,
   "id": "ec5cc913",
   "metadata": {},
   "outputs": [
    {
     "data": {
      "text/plain": [
       "(72210, 44)"
      ]
     },
     "metadata": {},
     "output_type": "display_data"
    },
    {
     "data": {
      "text/plain": [
       "(30948, 44)"
      ]
     },
     "metadata": {},
     "output_type": "display_data"
    }
   ],
   "source": [
    "display(new_X_train.shape)\n",
    "display(new_X_test.shape)"
   ]
  },
  {
   "cell_type": "markdown",
   "id": "4e025419",
   "metadata": {},
   "source": [
    "### Pipelines and Parameters"
   ]
  },
  {
   "cell_type": "code",
   "execution_count": 30,
   "id": "11a6d21e",
   "metadata": {},
   "outputs": [],
   "source": [
    "# Import libraries\n",
    "from imblearn.pipeline import Pipeline\n",
    "from sklearn.metrics import confusion_matrix, ConfusionMatrixDisplay, classification_report, accuracy_score, f1_score, recall_score, precision_score, roc_curve, roc_auc_score, PrecisionRecallDisplay, precision_recall_curve\n",
    "from sklearn.ensemble import AdaBoostClassifier\n",
    "from xgboost import XGBClassifier\n",
    "from catboost import CatBoostClassifier"
   ]
  },
  {
   "cell_type": "markdown",
   "id": "30fa8904",
   "metadata": {},
   "source": [
    "### Pipeline and Hyperparameter Tuning"
   ]
  },
  {
   "cell_type": "code",
   "execution_count": 16,
   "id": "846d8100",
   "metadata": {},
   "outputs": [],
   "source": [
    "#catboost\n",
    "pipe_cat = Pipeline([('cat', CatBoostClassifier(verbose= False))])\n",
    "\n",
    "# XGBoost      \n",
    "pipe_xgb = Pipeline([('xgb', XGBClassifier(n_jobs=-1))])\n",
    "\n",
    "# AdaBoost      \n",
    "pipe_ada = Pipeline([('ada', AdaBoostClassifier())])"
   ]
  },
  {
   "cell_type": "code",
   "execution_count": 28,
   "id": "ecbe7cee",
   "metadata": {},
   "outputs": [],
   "source": [
    "params_cat = {\n",
    "    'cat__depth': [5,7],\n",
    "    'cat__learning_rate' : [0.1, 0.05, 0.01],\n",
    "    'cat__iterations': [450,500, 550],\n",
    "    'cat__auto_class_weights' : ['Balanced']\n",
    "}\n",
    "\n",
    "params_ada = {\n",
    "    'ada__n_estimators': [250,300, 350],\n",
    "    'ada__learning_rate' : [0.1, 0.05, 0.01]\n",
    "}\n",
    "\n",
    "params_xgb = {\n",
    "    'xgb__n_estimators': [60, 80, 100],\n",
    "    'xgb__eta' : [1, 0.1, 0.01],\n",
    "    'xgb__max_depth' : [5,7],\n",
    "    'xgb__eval_metric' : ['auc']\n",
    "}\n"
   ]
  },
  {
   "cell_type": "markdown",
   "id": "defd667a",
   "metadata": {},
   "source": [
    "### Modelling"
   ]
  },
  {
   "cell_type": "code",
   "execution_count": 18,
   "id": "7962e725",
   "metadata": {},
   "outputs": [],
   "source": [
    "def model_fit(model_name, X_train, y_train, pipe, param):\n",
    "    \n",
    "    gs = GridSearchCV(pipe, param, cv=3, scoring = 'f1', n_jobs=-1)\n",
    "    gs.fit(X_train, y_train)\n",
    "    \n",
    "    filename = f'../model/{model_name}.pickle'\n",
    "    joblib.dump(gs.best_estimator_, filename)\n",
    "\n",
    "    print(gs.best_params_)"
   ]
  },
  {
   "cell_type": "code",
   "execution_count": 19,
   "id": "bc18e429",
   "metadata": {},
   "outputs": [],
   "source": [
    "def model_plot(df, model_name, X_train, X_test, y_train, y_test):\n",
    "    \n",
    "    #load model\n",
    "    filename = f'../model/{model_name}.pickle'\n",
    "    model = joblib.load(filename)\n",
    "    \n",
    "    # check for generalisation\n",
    "    y_train_pred = model.predict(X_train)\n",
    "    y_test_pred = model.predict(X_test)\n",
    "    \n",
    "    #train scoring\n",
    "    train_accuracy = round(accuracy_score(y_train, y_train_pred),3)\n",
    "    train_recall = round(recall_score(y_train, y_train_pred),3)\n",
    "    train_f1 = round(f1_score(y_train, y_train_pred),3)\n",
    "    train_precision = round(precision_score(y_train, y_train_pred),3)\n",
    "    train_roc_auc = round(roc_auc_score(y_train, y_train_pred),3)\n",
    "    \n",
    "    #test scoring\n",
    "    test_accuracy = round(accuracy_score(y_test, y_test_pred),3)\n",
    "    test_recall = round(recall_score(y_test, y_test_pred),3)\n",
    "    test_f1 = round(f1_score(y_test, y_test_pred),3)\n",
    "    test_precision = round(precision_score(y_test, y_test_pred),3)\n",
    "    test_roc_auc = round(roc_auc_score(y_test, y_test_pred),3)\n",
    "    \n",
    "    #generalisation\n",
    "    gen_accuracy = round(((train_accuracy - test_accuracy)/train_accuracy * 100),3)\n",
    "    gen_recall = round(((train_recall - test_recall)/train_recall * 100),3)\n",
    "    gen_f1 = round(((train_f1 - test_f1)/train_f1 * 100),3)\n",
    "    gen_precision = round(((train_precision - test_precision)/train_precision * 100),3)\n",
    "    gen_roc_auc = round(((train_roc_auc - test_roc_auc)/train_roc_auc * 100),3)\n",
    "    \n",
    "    #get predicted data points to plot the roc curve\n",
    "    y_proba = model.predict_proba(X_test)\n",
    "    \n",
    "    # roc curve for models\n",
    "    fpr, tpr, thresh = roc_curve(y_test, y_proba[:, 1])\n",
    "    \n",
    "    # precision-recall curve for models\n",
    "    precision, recall, threshold = precision_recall_curve(y_test, y_proba[:, 1])\n",
    "\n",
    "    #store values as dictionary\n",
    "    data = {\"model\" : model_name,\n",
    "            \"train_accuracy\" : train_accuracy, \n",
    "            \"train_recall\" : train_recall,\n",
    "            \"train_precision\" : train_precision, \n",
    "            \"train_f1\": train_f1, \n",
    "            \"train_roc_auc\" : train_roc_auc, \n",
    "            \"test_accuracy\" : test_accuracy, \n",
    "            \"test_recall\" : test_recall,\n",
    "            \"test_precision\" : test_precision, \n",
    "            \"test_f1\": test_f1, \n",
    "            \"test_roc_auc\" : test_roc_auc,\n",
    "            \"gen_accuracy\" : gen_accuracy, \n",
    "            \"gen_recall\" : gen_recall,\n",
    "            \"gen_precision\" : gen_precision, \n",
    "            \"gen_f1\": gen_f1, \n",
    "            \"gen_roc_auc\" : gen_roc_auc,\n",
    "            \"best_params\" : model,\n",
    "            \"fpr\" : [fpr], \n",
    "            \"tpr\" : [tpr],\n",
    "            \"precision\" : [precision], \n",
    "            \"recall\" : [recall],\n",
    "           }\n",
    "    \n",
    "    # Create DataFrame\n",
    "    result = pd.DataFrame(data)\n",
    "\n",
    "    #append to original df\n",
    "    result = pd.concat([df, result], ignore_index=True)\n",
    "    \n",
    "    print(model)\n",
    "    \n",
    "    print('Classification Report')\n",
    "    print(classification_report(y_test,y_test_pred))\n",
    "    print('Confusion Matrix')\n",
    "    #plot confusion matrix \n",
    "    fig, ax = plt.subplots(1, 2, figsize = (8, 4))\n",
    "    \n",
    "    cm1 = confusion_matrix(y_train, y_train_pred)\n",
    "    ConfusionMatrixDisplay(confusion_matrix=cm1, \n",
    "                               display_labels=['normal', 'malicious']).plot( ax = ax[0], values_format='d', \n",
    "                                                                        colorbar = False, cmap='YlGn')  \n",
    "                                #0 is normal, 1 is malicious\n",
    "\n",
    "    ax[0].set_title(f'Train - {model_name}')\n",
    "    \n",
    "    cm2 = confusion_matrix(y_test, y_test_pred)\n",
    "    ConfusionMatrixDisplay(confusion_matrix=cm2, \n",
    "                               display_labels=['normal', 'malicious']).plot(ax = ax[1], values_format='d', \n",
    "                                                                        colorbar = False, cmap='YlGn')  \n",
    "    \n",
    "    ax[1].set_title(f'Test - {model_name}')   \n",
    "\n",
    "    plt.tight_layout()\n",
    "    plt.show()\n",
    "    \n",
    "    TN = cm2[0][0]\n",
    "    FP = cm2[0][1]\n",
    "    FN = cm2[1][0]\n",
    "    TP = cm2[1][1]\n",
    "    \n",
    "    \n",
    "    print(f'Train f1: {train_f1}')\n",
    "    print(f'Test f1: {test_f1}')\n",
    "    print(f'f1 generalisation: {gen_f1}')\n",
    "    print(f'Test FAR: {round((FP/(FP+TN)*100),2)}%')\n",
    "    print(f'Test FNR: {round((FN/(TP+FN)*100),2)}%')\n",
    "      \n",
    "    return result"
   ]
  },
  {
   "cell_type": "markdown",
   "id": "8812cc66",
   "metadata": {},
   "source": [
    "### Find the best estimators"
   ]
  },
  {
   "cell_type": "code",
   "execution_count": 23,
   "id": "5b86295b",
   "metadata": {},
   "outputs": [
    {
     "name": "stderr",
     "output_type": "stream",
     "text": [
      "/Users/coremptiness/opt/anaconda3/lib/python3.9/site-packages/xgboost/compat.py:36: FutureWarning: pandas.Int64Index is deprecated and will be removed from pandas in a future version. Use pandas.Index with the appropriate dtype instead.\n",
      "  from pandas import MultiIndex, Int64Index\n",
      "/Users/coremptiness/opt/anaconda3/lib/python3.9/site-packages/xgboost/compat.py:36: FutureWarning: pandas.Int64Index is deprecated and will be removed from pandas in a future version. Use pandas.Index with the appropriate dtype instead.\n",
      "  from pandas import MultiIndex, Int64Index\n",
      "/Users/coremptiness/opt/anaconda3/lib/python3.9/site-packages/xgboost/compat.py:36: FutureWarning: pandas.Int64Index is deprecated and will be removed from pandas in a future version. Use pandas.Index with the appropriate dtype instead.\n",
      "  from pandas import MultiIndex, Int64Index\n",
      "/Users/coremptiness/opt/anaconda3/lib/python3.9/site-packages/xgboost/compat.py:36: FutureWarning: pandas.Int64Index is deprecated and will be removed from pandas in a future version. Use pandas.Index with the appropriate dtype instead.\n",
      "  from pandas import MultiIndex, Int64Index\n"
     ]
    },
    {
     "name": "stdout",
     "output_type": "stream",
     "text": [
      "{'cat__auto_class_weights': 'Balanced', 'cat__depth': 7, 'cat__iterations': 500, 'cat__learning_rate': 0.1}\n",
      "CPU times: user 33.7 s, sys: 2.13 s, total: 35.9 s\n",
      "Wall time: 7min 11s\n"
     ]
    }
   ],
   "source": [
    "%time model_fit('cat', new_X_train, y_train, pipe_cat, params_cat)"
   ]
  },
  {
   "cell_type": "code",
   "execution_count": 29,
   "id": "41a7470b",
   "metadata": {},
   "outputs": [
    {
     "name": "stdout",
     "output_type": "stream",
     "text": [
      "{'ada__learning_rate': 0.1, 'ada__n_estimators': 350}\n",
      "CPU times: user 58.7 s, sys: 1.92 s, total: 1min\n",
      "Wall time: 10min 19s\n"
     ]
    }
   ],
   "source": [
    "%time model_fit('ada', new_X_train, y_train, pipe_ada, params_ada)"
   ]
  },
  {
   "cell_type": "code",
   "execution_count": 25,
   "id": "3af2ded3",
   "metadata": {
    "scrolled": true
   },
   "outputs": [
    {
     "name": "stderr",
     "output_type": "stream",
     "text": [
      "/Users/coremptiness/opt/anaconda3/lib/python3.9/site-packages/xgboost/sklearn.py:1224: UserWarning: The use of label encoder in XGBClassifier is deprecated and will be removed in a future release. To remove this warning, do the following: 1) Pass option use_label_encoder=False when constructing XGBClassifier object; and 2) Encode your labels (y) as integers starting with 0, i.e. 0, 1, 2, ..., [num_class - 1].\n",
      "  warnings.warn(label_encoder_deprecation_msg, UserWarning)\n",
      "/Users/coremptiness/opt/anaconda3/lib/python3.9/site-packages/xgboost/sklearn.py:1224: UserWarning: The use of label encoder in XGBClassifier is deprecated and will be removed in a future release. To remove this warning, do the following: 1) Pass option use_label_encoder=False when constructing XGBClassifier object; and 2) Encode your labels (y) as integers starting with 0, i.e. 0, 1, 2, ..., [num_class - 1].\n",
      "  warnings.warn(label_encoder_deprecation_msg, UserWarning)\n",
      "/Users/coremptiness/opt/anaconda3/lib/python3.9/site-packages/xgboost/sklearn.py:1224: UserWarning: The use of label encoder in XGBClassifier is deprecated and will be removed in a future release. To remove this warning, do the following: 1) Pass option use_label_encoder=False when constructing XGBClassifier object; and 2) Encode your labels (y) as integers starting with 0, i.e. 0, 1, 2, ..., [num_class - 1].\n",
      "  warnings.warn(label_encoder_deprecation_msg, UserWarning)\n",
      "/Users/coremptiness/opt/anaconda3/lib/python3.9/site-packages/xgboost/sklearn.py:1224: UserWarning: The use of label encoder in XGBClassifier is deprecated and will be removed in a future release. To remove this warning, do the following: 1) Pass option use_label_encoder=False when constructing XGBClassifier object; and 2) Encode your labels (y) as integers starting with 0, i.e. 0, 1, 2, ..., [num_class - 1].\n",
      "  warnings.warn(label_encoder_deprecation_msg, UserWarning)\n",
      "/Users/coremptiness/opt/anaconda3/lib/python3.9/site-packages/xgboost/data.py:262: FutureWarning: pandas.Int64Index is deprecated and will be removed from pandas in a future version. Use pandas.Index with the appropriate dtype instead.\n",
      "  elif isinstance(data.columns, (pd.Int64Index, pd.RangeIndex)):\n",
      "/Users/coremptiness/opt/anaconda3/lib/python3.9/site-packages/xgboost/data.py:262: FutureWarning: pandas.Int64Index is deprecated and will be removed from pandas in a future version. Use pandas.Index with the appropriate dtype instead.\n",
      "  elif isinstance(data.columns, (pd.Int64Index, pd.RangeIndex)):\n",
      "/Users/coremptiness/opt/anaconda3/lib/python3.9/site-packages/xgboost/data.py:262: FutureWarning: pandas.Int64Index is deprecated and will be removed from pandas in a future version. Use pandas.Index with the appropriate dtype instead.\n",
      "  elif isinstance(data.columns, (pd.Int64Index, pd.RangeIndex)):\n",
      "/Users/coremptiness/opt/anaconda3/lib/python3.9/site-packages/xgboost/data.py:262: FutureWarning: pandas.Int64Index is deprecated and will be removed from pandas in a future version. Use pandas.Index with the appropriate dtype instead.\n",
      "  elif isinstance(data.columns, (pd.Int64Index, pd.RangeIndex)):\n",
      "/Users/coremptiness/opt/anaconda3/lib/python3.9/site-packages/xgboost/sklearn.py:1224: UserWarning: The use of label encoder in XGBClassifier is deprecated and will be removed in a future release. To remove this warning, do the following: 1) Pass option use_label_encoder=False when constructing XGBClassifier object; and 2) Encode your labels (y) as integers starting with 0, i.e. 0, 1, 2, ..., [num_class - 1].\n",
      "  warnings.warn(label_encoder_deprecation_msg, UserWarning)\n",
      "/Users/coremptiness/opt/anaconda3/lib/python3.9/site-packages/xgboost/data.py:262: FutureWarning: pandas.Int64Index is deprecated and will be removed from pandas in a future version. Use pandas.Index with the appropriate dtype instead.\n",
      "  elif isinstance(data.columns, (pd.Int64Index, pd.RangeIndex)):\n",
      "/Users/coremptiness/opt/anaconda3/lib/python3.9/site-packages/xgboost/sklearn.py:1224: UserWarning: The use of label encoder in XGBClassifier is deprecated and will be removed in a future release. To remove this warning, do the following: 1) Pass option use_label_encoder=False when constructing XGBClassifier object; and 2) Encode your labels (y) as integers starting with 0, i.e. 0, 1, 2, ..., [num_class - 1].\n",
      "  warnings.warn(label_encoder_deprecation_msg, UserWarning)\n",
      "/Users/coremptiness/opt/anaconda3/lib/python3.9/site-packages/xgboost/data.py:262: FutureWarning: pandas.Int64Index is deprecated and will be removed from pandas in a future version. Use pandas.Index with the appropriate dtype instead.\n",
      "  elif isinstance(data.columns, (pd.Int64Index, pd.RangeIndex)):\n",
      "/Users/coremptiness/opt/anaconda3/lib/python3.9/site-packages/xgboost/sklearn.py:1224: UserWarning: The use of label encoder in XGBClassifier is deprecated and will be removed in a future release. To remove this warning, do the following: 1) Pass option use_label_encoder=False when constructing XGBClassifier object; and 2) Encode your labels (y) as integers starting with 0, i.e. 0, 1, 2, ..., [num_class - 1].\n",
      "  warnings.warn(label_encoder_deprecation_msg, UserWarning)\n",
      "/Users/coremptiness/opt/anaconda3/lib/python3.9/site-packages/xgboost/data.py:262: FutureWarning: pandas.Int64Index is deprecated and will be removed from pandas in a future version. Use pandas.Index with the appropriate dtype instead.\n",
      "  elif isinstance(data.columns, (pd.Int64Index, pd.RangeIndex)):\n",
      "/Users/coremptiness/opt/anaconda3/lib/python3.9/site-packages/xgboost/sklearn.py:1224: UserWarning: The use of label encoder in XGBClassifier is deprecated and will be removed in a future release. To remove this warning, do the following: 1) Pass option use_label_encoder=False when constructing XGBClassifier object; and 2) Encode your labels (y) as integers starting with 0, i.e. 0, 1, 2, ..., [num_class - 1].\n",
      "  warnings.warn(label_encoder_deprecation_msg, UserWarning)\n",
      "/Users/coremptiness/opt/anaconda3/lib/python3.9/site-packages/xgboost/data.py:262: FutureWarning: pandas.Int64Index is deprecated and will be removed from pandas in a future version. Use pandas.Index with the appropriate dtype instead.\n",
      "  elif isinstance(data.columns, (pd.Int64Index, pd.RangeIndex)):\n",
      "/Users/coremptiness/opt/anaconda3/lib/python3.9/site-packages/xgboost/sklearn.py:1224: UserWarning: The use of label encoder in XGBClassifier is deprecated and will be removed in a future release. To remove this warning, do the following: 1) Pass option use_label_encoder=False when constructing XGBClassifier object; and 2) Encode your labels (y) as integers starting with 0, i.e. 0, 1, 2, ..., [num_class - 1].\n",
      "  warnings.warn(label_encoder_deprecation_msg, UserWarning)\n",
      "/Users/coremptiness/opt/anaconda3/lib/python3.9/site-packages/xgboost/data.py:262: FutureWarning: pandas.Int64Index is deprecated and will be removed from pandas in a future version. Use pandas.Index with the appropriate dtype instead.\n",
      "  elif isinstance(data.columns, (pd.Int64Index, pd.RangeIndex)):\n",
      "/Users/coremptiness/opt/anaconda3/lib/python3.9/site-packages/xgboost/sklearn.py:1224: UserWarning: The use of label encoder in XGBClassifier is deprecated and will be removed in a future release. To remove this warning, do the following: 1) Pass option use_label_encoder=False when constructing XGBClassifier object; and 2) Encode your labels (y) as integers starting with 0, i.e. 0, 1, 2, ..., [num_class - 1].\n",
      "  warnings.warn(label_encoder_deprecation_msg, UserWarning)\n",
      "/Users/coremptiness/opt/anaconda3/lib/python3.9/site-packages/xgboost/data.py:262: FutureWarning: pandas.Int64Index is deprecated and will be removed from pandas in a future version. Use pandas.Index with the appropriate dtype instead.\n",
      "  elif isinstance(data.columns, (pd.Int64Index, pd.RangeIndex)):\n",
      "/Users/coremptiness/opt/anaconda3/lib/python3.9/site-packages/xgboost/sklearn.py:1224: UserWarning: The use of label encoder in XGBClassifier is deprecated and will be removed in a future release. To remove this warning, do the following: 1) Pass option use_label_encoder=False when constructing XGBClassifier object; and 2) Encode your labels (y) as integers starting with 0, i.e. 0, 1, 2, ..., [num_class - 1].\n",
      "  warnings.warn(label_encoder_deprecation_msg, UserWarning)\n",
      "/Users/coremptiness/opt/anaconda3/lib/python3.9/site-packages/xgboost/data.py:262: FutureWarning: pandas.Int64Index is deprecated and will be removed from pandas in a future version. Use pandas.Index with the appropriate dtype instead.\n",
      "  elif isinstance(data.columns, (pd.Int64Index, pd.RangeIndex)):\n"
     ]
    },
    {
     "name": "stderr",
     "output_type": "stream",
     "text": [
      "/Users/coremptiness/opt/anaconda3/lib/python3.9/site-packages/xgboost/sklearn.py:1224: UserWarning: The use of label encoder in XGBClassifier is deprecated and will be removed in a future release. To remove this warning, do the following: 1) Pass option use_label_encoder=False when constructing XGBClassifier object; and 2) Encode your labels (y) as integers starting with 0, i.e. 0, 1, 2, ..., [num_class - 1].\n",
      "  warnings.warn(label_encoder_deprecation_msg, UserWarning)\n",
      "/Users/coremptiness/opt/anaconda3/lib/python3.9/site-packages/xgboost/data.py:262: FutureWarning: pandas.Int64Index is deprecated and will be removed from pandas in a future version. Use pandas.Index with the appropriate dtype instead.\n",
      "  elif isinstance(data.columns, (pd.Int64Index, pd.RangeIndex)):\n",
      "/Users/coremptiness/opt/anaconda3/lib/python3.9/site-packages/xgboost/sklearn.py:1224: UserWarning: The use of label encoder in XGBClassifier is deprecated and will be removed in a future release. To remove this warning, do the following: 1) Pass option use_label_encoder=False when constructing XGBClassifier object; and 2) Encode your labels (y) as integers starting with 0, i.e. 0, 1, 2, ..., [num_class - 1].\n",
      "  warnings.warn(label_encoder_deprecation_msg, UserWarning)\n",
      "/Users/coremptiness/opt/anaconda3/lib/python3.9/site-packages/xgboost/data.py:262: FutureWarning: pandas.Int64Index is deprecated and will be removed from pandas in a future version. Use pandas.Index with the appropriate dtype instead.\n",
      "  elif isinstance(data.columns, (pd.Int64Index, pd.RangeIndex)):\n",
      "/Users/coremptiness/opt/anaconda3/lib/python3.9/site-packages/xgboost/sklearn.py:1224: UserWarning: The use of label encoder in XGBClassifier is deprecated and will be removed in a future release. To remove this warning, do the following: 1) Pass option use_label_encoder=False when constructing XGBClassifier object; and 2) Encode your labels (y) as integers starting with 0, i.e. 0, 1, 2, ..., [num_class - 1].\n",
      "  warnings.warn(label_encoder_deprecation_msg, UserWarning)\n",
      "/Users/coremptiness/opt/anaconda3/lib/python3.9/site-packages/xgboost/data.py:262: FutureWarning: pandas.Int64Index is deprecated and will be removed from pandas in a future version. Use pandas.Index with the appropriate dtype instead.\n",
      "  elif isinstance(data.columns, (pd.Int64Index, pd.RangeIndex)):\n",
      "/Users/coremptiness/opt/anaconda3/lib/python3.9/site-packages/xgboost/sklearn.py:1224: UserWarning: The use of label encoder in XGBClassifier is deprecated and will be removed in a future release. To remove this warning, do the following: 1) Pass option use_label_encoder=False when constructing XGBClassifier object; and 2) Encode your labels (y) as integers starting with 0, i.e. 0, 1, 2, ..., [num_class - 1].\n",
      "  warnings.warn(label_encoder_deprecation_msg, UserWarning)\n",
      "/Users/coremptiness/opt/anaconda3/lib/python3.9/site-packages/xgboost/data.py:262: FutureWarning: pandas.Int64Index is deprecated and will be removed from pandas in a future version. Use pandas.Index with the appropriate dtype instead.\n",
      "  elif isinstance(data.columns, (pd.Int64Index, pd.RangeIndex)):\n",
      "/Users/coremptiness/opt/anaconda3/lib/python3.9/site-packages/xgboost/sklearn.py:1224: UserWarning: The use of label encoder in XGBClassifier is deprecated and will be removed in a future release. To remove this warning, do the following: 1) Pass option use_label_encoder=False when constructing XGBClassifier object; and 2) Encode your labels (y) as integers starting with 0, i.e. 0, 1, 2, ..., [num_class - 1].\n",
      "  warnings.warn(label_encoder_deprecation_msg, UserWarning)\n",
      "/Users/coremptiness/opt/anaconda3/lib/python3.9/site-packages/xgboost/data.py:262: FutureWarning: pandas.Int64Index is deprecated and will be removed from pandas in a future version. Use pandas.Index with the appropriate dtype instead.\n",
      "  elif isinstance(data.columns, (pd.Int64Index, pd.RangeIndex)):\n",
      "/Users/coremptiness/opt/anaconda3/lib/python3.9/site-packages/xgboost/sklearn.py:1224: UserWarning: The use of label encoder in XGBClassifier is deprecated and will be removed in a future release. To remove this warning, do the following: 1) Pass option use_label_encoder=False when constructing XGBClassifier object; and 2) Encode your labels (y) as integers starting with 0, i.e. 0, 1, 2, ..., [num_class - 1].\n",
      "  warnings.warn(label_encoder_deprecation_msg, UserWarning)\n",
      "/Users/coremptiness/opt/anaconda3/lib/python3.9/site-packages/xgboost/data.py:262: FutureWarning: pandas.Int64Index is deprecated and will be removed from pandas in a future version. Use pandas.Index with the appropriate dtype instead.\n",
      "  elif isinstance(data.columns, (pd.Int64Index, pd.RangeIndex)):\n",
      "/Users/coremptiness/opt/anaconda3/lib/python3.9/site-packages/xgboost/sklearn.py:1224: UserWarning: The use of label encoder in XGBClassifier is deprecated and will be removed in a future release. To remove this warning, do the following: 1) Pass option use_label_encoder=False when constructing XGBClassifier object; and 2) Encode your labels (y) as integers starting with 0, i.e. 0, 1, 2, ..., [num_class - 1].\n",
      "  warnings.warn(label_encoder_deprecation_msg, UserWarning)\n",
      "/Users/coremptiness/opt/anaconda3/lib/python3.9/site-packages/xgboost/data.py:262: FutureWarning: pandas.Int64Index is deprecated and will be removed from pandas in a future version. Use pandas.Index with the appropriate dtype instead.\n",
      "  elif isinstance(data.columns, (pd.Int64Index, pd.RangeIndex)):\n",
      "/Users/coremptiness/opt/anaconda3/lib/python3.9/site-packages/xgboost/sklearn.py:1224: UserWarning: The use of label encoder in XGBClassifier is deprecated and will be removed in a future release. To remove this warning, do the following: 1) Pass option use_label_encoder=False when constructing XGBClassifier object; and 2) Encode your labels (y) as integers starting with 0, i.e. 0, 1, 2, ..., [num_class - 1].\n",
      "  warnings.warn(label_encoder_deprecation_msg, UserWarning)\n",
      "/Users/coremptiness/opt/anaconda3/lib/python3.9/site-packages/xgboost/data.py:262: FutureWarning: pandas.Int64Index is deprecated and will be removed from pandas in a future version. Use pandas.Index with the appropriate dtype instead.\n",
      "  elif isinstance(data.columns, (pd.Int64Index, pd.RangeIndex)):\n",
      "/Users/coremptiness/opt/anaconda3/lib/python3.9/site-packages/xgboost/sklearn.py:1224: UserWarning: The use of label encoder in XGBClassifier is deprecated and will be removed in a future release. To remove this warning, do the following: 1) Pass option use_label_encoder=False when constructing XGBClassifier object; and 2) Encode your labels (y) as integers starting with 0, i.e. 0, 1, 2, ..., [num_class - 1].\n",
      "  warnings.warn(label_encoder_deprecation_msg, UserWarning)\n",
      "/Users/coremptiness/opt/anaconda3/lib/python3.9/site-packages/xgboost/data.py:262: FutureWarning: pandas.Int64Index is deprecated and will be removed from pandas in a future version. Use pandas.Index with the appropriate dtype instead.\n",
      "  elif isinstance(data.columns, (pd.Int64Index, pd.RangeIndex)):\n",
      "/Users/coremptiness/opt/anaconda3/lib/python3.9/site-packages/xgboost/sklearn.py:1224: UserWarning: The use of label encoder in XGBClassifier is deprecated and will be removed in a future release. To remove this warning, do the following: 1) Pass option use_label_encoder=False when constructing XGBClassifier object; and 2) Encode your labels (y) as integers starting with 0, i.e. 0, 1, 2, ..., [num_class - 1].\n",
      "  warnings.warn(label_encoder_deprecation_msg, UserWarning)\n",
      "/Users/coremptiness/opt/anaconda3/lib/python3.9/site-packages/xgboost/data.py:262: FutureWarning: pandas.Int64Index is deprecated and will be removed from pandas in a future version. Use pandas.Index with the appropriate dtype instead.\n",
      "  elif isinstance(data.columns, (pd.Int64Index, pd.RangeIndex)):\n",
      "/Users/coremptiness/opt/anaconda3/lib/python3.9/site-packages/xgboost/sklearn.py:1224: UserWarning: The use of label encoder in XGBClassifier is deprecated and will be removed in a future release. To remove this warning, do the following: 1) Pass option use_label_encoder=False when constructing XGBClassifier object; and 2) Encode your labels (y) as integers starting with 0, i.e. 0, 1, 2, ..., [num_class - 1].\n",
      "  warnings.warn(label_encoder_deprecation_msg, UserWarning)\n",
      "/Users/coremptiness/opt/anaconda3/lib/python3.9/site-packages/xgboost/data.py:262: FutureWarning: pandas.Int64Index is deprecated and will be removed from pandas in a future version. Use pandas.Index with the appropriate dtype instead.\n",
      "  elif isinstance(data.columns, (pd.Int64Index, pd.RangeIndex)):\n"
     ]
    },
    {
     "name": "stderr",
     "output_type": "stream",
     "text": [
      "/Users/coremptiness/opt/anaconda3/lib/python3.9/site-packages/xgboost/sklearn.py:1224: UserWarning: The use of label encoder in XGBClassifier is deprecated and will be removed in a future release. To remove this warning, do the following: 1) Pass option use_label_encoder=False when constructing XGBClassifier object; and 2) Encode your labels (y) as integers starting with 0, i.e. 0, 1, 2, ..., [num_class - 1].\n",
      "  warnings.warn(label_encoder_deprecation_msg, UserWarning)\n",
      "/Users/coremptiness/opt/anaconda3/lib/python3.9/site-packages/xgboost/data.py:262: FutureWarning: pandas.Int64Index is deprecated and will be removed from pandas in a future version. Use pandas.Index with the appropriate dtype instead.\n",
      "  elif isinstance(data.columns, (pd.Int64Index, pd.RangeIndex)):\n",
      "/Users/coremptiness/opt/anaconda3/lib/python3.9/site-packages/xgboost/sklearn.py:1224: UserWarning: The use of label encoder in XGBClassifier is deprecated and will be removed in a future release. To remove this warning, do the following: 1) Pass option use_label_encoder=False when constructing XGBClassifier object; and 2) Encode your labels (y) as integers starting with 0, i.e. 0, 1, 2, ..., [num_class - 1].\n",
      "  warnings.warn(label_encoder_deprecation_msg, UserWarning)\n",
      "/Users/coremptiness/opt/anaconda3/lib/python3.9/site-packages/xgboost/data.py:262: FutureWarning: pandas.Int64Index is deprecated and will be removed from pandas in a future version. Use pandas.Index with the appropriate dtype instead.\n",
      "  elif isinstance(data.columns, (pd.Int64Index, pd.RangeIndex)):\n",
      "/Users/coremptiness/opt/anaconda3/lib/python3.9/site-packages/xgboost/sklearn.py:1224: UserWarning: The use of label encoder in XGBClassifier is deprecated and will be removed in a future release. To remove this warning, do the following: 1) Pass option use_label_encoder=False when constructing XGBClassifier object; and 2) Encode your labels (y) as integers starting with 0, i.e. 0, 1, 2, ..., [num_class - 1].\n",
      "  warnings.warn(label_encoder_deprecation_msg, UserWarning)\n",
      "/Users/coremptiness/opt/anaconda3/lib/python3.9/site-packages/xgboost/data.py:262: FutureWarning: pandas.Int64Index is deprecated and will be removed from pandas in a future version. Use pandas.Index with the appropriate dtype instead.\n",
      "  elif isinstance(data.columns, (pd.Int64Index, pd.RangeIndex)):\n",
      "/Users/coremptiness/opt/anaconda3/lib/python3.9/site-packages/xgboost/sklearn.py:1224: UserWarning: The use of label encoder in XGBClassifier is deprecated and will be removed in a future release. To remove this warning, do the following: 1) Pass option use_label_encoder=False when constructing XGBClassifier object; and 2) Encode your labels (y) as integers starting with 0, i.e. 0, 1, 2, ..., [num_class - 1].\n",
      "  warnings.warn(label_encoder_deprecation_msg, UserWarning)\n",
      "/Users/coremptiness/opt/anaconda3/lib/python3.9/site-packages/xgboost/data.py:262: FutureWarning: pandas.Int64Index is deprecated and will be removed from pandas in a future version. Use pandas.Index with the appropriate dtype instead.\n",
      "  elif isinstance(data.columns, (pd.Int64Index, pd.RangeIndex)):\n",
      "/Users/coremptiness/opt/anaconda3/lib/python3.9/site-packages/xgboost/sklearn.py:1224: UserWarning: The use of label encoder in XGBClassifier is deprecated and will be removed in a future release. To remove this warning, do the following: 1) Pass option use_label_encoder=False when constructing XGBClassifier object; and 2) Encode your labels (y) as integers starting with 0, i.e. 0, 1, 2, ..., [num_class - 1].\n",
      "  warnings.warn(label_encoder_deprecation_msg, UserWarning)\n",
      "/Users/coremptiness/opt/anaconda3/lib/python3.9/site-packages/xgboost/data.py:262: FutureWarning: pandas.Int64Index is deprecated and will be removed from pandas in a future version. Use pandas.Index with the appropriate dtype instead.\n",
      "  elif isinstance(data.columns, (pd.Int64Index, pd.RangeIndex)):\n",
      "/Users/coremptiness/opt/anaconda3/lib/python3.9/site-packages/xgboost/sklearn.py:1224: UserWarning: The use of label encoder in XGBClassifier is deprecated and will be removed in a future release. To remove this warning, do the following: 1) Pass option use_label_encoder=False when constructing XGBClassifier object; and 2) Encode your labels (y) as integers starting with 0, i.e. 0, 1, 2, ..., [num_class - 1].\n",
      "  warnings.warn(label_encoder_deprecation_msg, UserWarning)\n",
      "/Users/coremptiness/opt/anaconda3/lib/python3.9/site-packages/xgboost/data.py:262: FutureWarning: pandas.Int64Index is deprecated and will be removed from pandas in a future version. Use pandas.Index with the appropriate dtype instead.\n",
      "  elif isinstance(data.columns, (pd.Int64Index, pd.RangeIndex)):\n",
      "/Users/coremptiness/opt/anaconda3/lib/python3.9/site-packages/xgboost/sklearn.py:1224: UserWarning: The use of label encoder in XGBClassifier is deprecated and will be removed in a future release. To remove this warning, do the following: 1) Pass option use_label_encoder=False when constructing XGBClassifier object; and 2) Encode your labels (y) as integers starting with 0, i.e. 0, 1, 2, ..., [num_class - 1].\n",
      "  warnings.warn(label_encoder_deprecation_msg, UserWarning)\n",
      "/Users/coremptiness/opt/anaconda3/lib/python3.9/site-packages/xgboost/data.py:262: FutureWarning: pandas.Int64Index is deprecated and will be removed from pandas in a future version. Use pandas.Index with the appropriate dtype instead.\n",
      "  elif isinstance(data.columns, (pd.Int64Index, pd.RangeIndex)):\n",
      "/Users/coremptiness/opt/anaconda3/lib/python3.9/site-packages/xgboost/sklearn.py:1224: UserWarning: The use of label encoder in XGBClassifier is deprecated and will be removed in a future release. To remove this warning, do the following: 1) Pass option use_label_encoder=False when constructing XGBClassifier object; and 2) Encode your labels (y) as integers starting with 0, i.e. 0, 1, 2, ..., [num_class - 1].\n",
      "  warnings.warn(label_encoder_deprecation_msg, UserWarning)\n",
      "/Users/coremptiness/opt/anaconda3/lib/python3.9/site-packages/xgboost/data.py:262: FutureWarning: pandas.Int64Index is deprecated and will be removed from pandas in a future version. Use pandas.Index with the appropriate dtype instead.\n",
      "  elif isinstance(data.columns, (pd.Int64Index, pd.RangeIndex)):\n",
      "/Users/coremptiness/opt/anaconda3/lib/python3.9/site-packages/xgboost/sklearn.py:1224: UserWarning: The use of label encoder in XGBClassifier is deprecated and will be removed in a future release. To remove this warning, do the following: 1) Pass option use_label_encoder=False when constructing XGBClassifier object; and 2) Encode your labels (y) as integers starting with 0, i.e. 0, 1, 2, ..., [num_class - 1].\n",
      "  warnings.warn(label_encoder_deprecation_msg, UserWarning)\n",
      "/Users/coremptiness/opt/anaconda3/lib/python3.9/site-packages/xgboost/data.py:262: FutureWarning: pandas.Int64Index is deprecated and will be removed from pandas in a future version. Use pandas.Index with the appropriate dtype instead.\n",
      "  elif isinstance(data.columns, (pd.Int64Index, pd.RangeIndex)):\n",
      "/Users/coremptiness/opt/anaconda3/lib/python3.9/site-packages/xgboost/sklearn.py:1224: UserWarning: The use of label encoder in XGBClassifier is deprecated and will be removed in a future release. To remove this warning, do the following: 1) Pass option use_label_encoder=False when constructing XGBClassifier object; and 2) Encode your labels (y) as integers starting with 0, i.e. 0, 1, 2, ..., [num_class - 1].\n",
      "  warnings.warn(label_encoder_deprecation_msg, UserWarning)\n",
      "/Users/coremptiness/opt/anaconda3/lib/python3.9/site-packages/xgboost/data.py:262: FutureWarning: pandas.Int64Index is deprecated and will be removed from pandas in a future version. Use pandas.Index with the appropriate dtype instead.\n",
      "  elif isinstance(data.columns, (pd.Int64Index, pd.RangeIndex)):\n",
      "/Users/coremptiness/opt/anaconda3/lib/python3.9/site-packages/xgboost/sklearn.py:1224: UserWarning: The use of label encoder in XGBClassifier is deprecated and will be removed in a future release. To remove this warning, do the following: 1) Pass option use_label_encoder=False when constructing XGBClassifier object; and 2) Encode your labels (y) as integers starting with 0, i.e. 0, 1, 2, ..., [num_class - 1].\n",
      "  warnings.warn(label_encoder_deprecation_msg, UserWarning)\n",
      "/Users/coremptiness/opt/anaconda3/lib/python3.9/site-packages/xgboost/data.py:262: FutureWarning: pandas.Int64Index is deprecated and will be removed from pandas in a future version. Use pandas.Index with the appropriate dtype instead.\n",
      "  elif isinstance(data.columns, (pd.Int64Index, pd.RangeIndex)):\n"
     ]
    },
    {
     "name": "stderr",
     "output_type": "stream",
     "text": [
      "/Users/coremptiness/opt/anaconda3/lib/python3.9/site-packages/xgboost/sklearn.py:1224: UserWarning: The use of label encoder in XGBClassifier is deprecated and will be removed in a future release. To remove this warning, do the following: 1) Pass option use_label_encoder=False when constructing XGBClassifier object; and 2) Encode your labels (y) as integers starting with 0, i.e. 0, 1, 2, ..., [num_class - 1].\n",
      "  warnings.warn(label_encoder_deprecation_msg, UserWarning)\n",
      "/Users/coremptiness/opt/anaconda3/lib/python3.9/site-packages/xgboost/data.py:262: FutureWarning: pandas.Int64Index is deprecated and will be removed from pandas in a future version. Use pandas.Index with the appropriate dtype instead.\n",
      "  elif isinstance(data.columns, (pd.Int64Index, pd.RangeIndex)):\n",
      "/Users/coremptiness/opt/anaconda3/lib/python3.9/site-packages/xgboost/sklearn.py:1224: UserWarning: The use of label encoder in XGBClassifier is deprecated and will be removed in a future release. To remove this warning, do the following: 1) Pass option use_label_encoder=False when constructing XGBClassifier object; and 2) Encode your labels (y) as integers starting with 0, i.e. 0, 1, 2, ..., [num_class - 1].\n",
      "  warnings.warn(label_encoder_deprecation_msg, UserWarning)\n",
      "/Users/coremptiness/opt/anaconda3/lib/python3.9/site-packages/xgboost/data.py:262: FutureWarning: pandas.Int64Index is deprecated and will be removed from pandas in a future version. Use pandas.Index with the appropriate dtype instead.\n",
      "  elif isinstance(data.columns, (pd.Int64Index, pd.RangeIndex)):\n",
      "/Users/coremptiness/opt/anaconda3/lib/python3.9/site-packages/xgboost/sklearn.py:1224: UserWarning: The use of label encoder in XGBClassifier is deprecated and will be removed in a future release. To remove this warning, do the following: 1) Pass option use_label_encoder=False when constructing XGBClassifier object; and 2) Encode your labels (y) as integers starting with 0, i.e. 0, 1, 2, ..., [num_class - 1].\n",
      "  warnings.warn(label_encoder_deprecation_msg, UserWarning)\n",
      "/Users/coremptiness/opt/anaconda3/lib/python3.9/site-packages/xgboost/data.py:262: FutureWarning: pandas.Int64Index is deprecated and will be removed from pandas in a future version. Use pandas.Index with the appropriate dtype instead.\n",
      "  elif isinstance(data.columns, (pd.Int64Index, pd.RangeIndex)):\n",
      "/Users/coremptiness/opt/anaconda3/lib/python3.9/site-packages/xgboost/sklearn.py:1224: UserWarning: The use of label encoder in XGBClassifier is deprecated and will be removed in a future release. To remove this warning, do the following: 1) Pass option use_label_encoder=False when constructing XGBClassifier object; and 2) Encode your labels (y) as integers starting with 0, i.e. 0, 1, 2, ..., [num_class - 1].\n",
      "  warnings.warn(label_encoder_deprecation_msg, UserWarning)\n",
      "/Users/coremptiness/opt/anaconda3/lib/python3.9/site-packages/xgboost/data.py:262: FutureWarning: pandas.Int64Index is deprecated and will be removed from pandas in a future version. Use pandas.Index with the appropriate dtype instead.\n",
      "  elif isinstance(data.columns, (pd.Int64Index, pd.RangeIndex)):\n",
      "/Users/coremptiness/opt/anaconda3/lib/python3.9/site-packages/xgboost/sklearn.py:1224: UserWarning: The use of label encoder in XGBClassifier is deprecated and will be removed in a future release. To remove this warning, do the following: 1) Pass option use_label_encoder=False when constructing XGBClassifier object; and 2) Encode your labels (y) as integers starting with 0, i.e. 0, 1, 2, ..., [num_class - 1].\n",
      "  warnings.warn(label_encoder_deprecation_msg, UserWarning)\n",
      "/Users/coremptiness/opt/anaconda3/lib/python3.9/site-packages/xgboost/data.py:262: FutureWarning: pandas.Int64Index is deprecated and will be removed from pandas in a future version. Use pandas.Index with the appropriate dtype instead.\n",
      "  elif isinstance(data.columns, (pd.Int64Index, pd.RangeIndex)):\n",
      "/Users/coremptiness/opt/anaconda3/lib/python3.9/site-packages/xgboost/sklearn.py:1224: UserWarning: The use of label encoder in XGBClassifier is deprecated and will be removed in a future release. To remove this warning, do the following: 1) Pass option use_label_encoder=False when constructing XGBClassifier object; and 2) Encode your labels (y) as integers starting with 0, i.e. 0, 1, 2, ..., [num_class - 1].\n",
      "  warnings.warn(label_encoder_deprecation_msg, UserWarning)\n",
      "/Users/coremptiness/opt/anaconda3/lib/python3.9/site-packages/xgboost/data.py:262: FutureWarning: pandas.Int64Index is deprecated and will be removed from pandas in a future version. Use pandas.Index with the appropriate dtype instead.\n",
      "  elif isinstance(data.columns, (pd.Int64Index, pd.RangeIndex)):\n",
      "/Users/coremptiness/opt/anaconda3/lib/python3.9/site-packages/xgboost/sklearn.py:1224: UserWarning: The use of label encoder in XGBClassifier is deprecated and will be removed in a future release. To remove this warning, do the following: 1) Pass option use_label_encoder=False when constructing XGBClassifier object; and 2) Encode your labels (y) as integers starting with 0, i.e. 0, 1, 2, ..., [num_class - 1].\n",
      "  warnings.warn(label_encoder_deprecation_msg, UserWarning)\n",
      "/Users/coremptiness/opt/anaconda3/lib/python3.9/site-packages/xgboost/data.py:262: FutureWarning: pandas.Int64Index is deprecated and will be removed from pandas in a future version. Use pandas.Index with the appropriate dtype instead.\n",
      "  elif isinstance(data.columns, (pd.Int64Index, pd.RangeIndex)):\n",
      "/Users/coremptiness/opt/anaconda3/lib/python3.9/site-packages/xgboost/sklearn.py:1224: UserWarning: The use of label encoder in XGBClassifier is deprecated and will be removed in a future release. To remove this warning, do the following: 1) Pass option use_label_encoder=False when constructing XGBClassifier object; and 2) Encode your labels (y) as integers starting with 0, i.e. 0, 1, 2, ..., [num_class - 1].\n",
      "  warnings.warn(label_encoder_deprecation_msg, UserWarning)\n",
      "/Users/coremptiness/opt/anaconda3/lib/python3.9/site-packages/xgboost/data.py:262: FutureWarning: pandas.Int64Index is deprecated and will be removed from pandas in a future version. Use pandas.Index with the appropriate dtype instead.\n",
      "  elif isinstance(data.columns, (pd.Int64Index, pd.RangeIndex)):\n",
      "/Users/coremptiness/opt/anaconda3/lib/python3.9/site-packages/xgboost/sklearn.py:1224: UserWarning: The use of label encoder in XGBClassifier is deprecated and will be removed in a future release. To remove this warning, do the following: 1) Pass option use_label_encoder=False when constructing XGBClassifier object; and 2) Encode your labels (y) as integers starting with 0, i.e. 0, 1, 2, ..., [num_class - 1].\n",
      "  warnings.warn(label_encoder_deprecation_msg, UserWarning)\n",
      "/Users/coremptiness/opt/anaconda3/lib/python3.9/site-packages/xgboost/data.py:262: FutureWarning: pandas.Int64Index is deprecated and will be removed from pandas in a future version. Use pandas.Index with the appropriate dtype instead.\n",
      "  elif isinstance(data.columns, (pd.Int64Index, pd.RangeIndex)):\n",
      "/Users/coremptiness/opt/anaconda3/lib/python3.9/site-packages/xgboost/sklearn.py:1224: UserWarning: The use of label encoder in XGBClassifier is deprecated and will be removed in a future release. To remove this warning, do the following: 1) Pass option use_label_encoder=False when constructing XGBClassifier object; and 2) Encode your labels (y) as integers starting with 0, i.e. 0, 1, 2, ..., [num_class - 1].\n",
      "  warnings.warn(label_encoder_deprecation_msg, UserWarning)\n",
      "/Users/coremptiness/opt/anaconda3/lib/python3.9/site-packages/xgboost/data.py:262: FutureWarning: pandas.Int64Index is deprecated and will be removed from pandas in a future version. Use pandas.Index with the appropriate dtype instead.\n",
      "  elif isinstance(data.columns, (pd.Int64Index, pd.RangeIndex)):\n",
      "/Users/coremptiness/opt/anaconda3/lib/python3.9/site-packages/xgboost/sklearn.py:1224: UserWarning: The use of label encoder in XGBClassifier is deprecated and will be removed in a future release. To remove this warning, do the following: 1) Pass option use_label_encoder=False when constructing XGBClassifier object; and 2) Encode your labels (y) as integers starting with 0, i.e. 0, 1, 2, ..., [num_class - 1].\n",
      "  warnings.warn(label_encoder_deprecation_msg, UserWarning)\n",
      "/Users/coremptiness/opt/anaconda3/lib/python3.9/site-packages/xgboost/data.py:262: FutureWarning: pandas.Int64Index is deprecated and will be removed from pandas in a future version. Use pandas.Index with the appropriate dtype instead.\n",
      "  elif isinstance(data.columns, (pd.Int64Index, pd.RangeIndex)):\n"
     ]
    },
    {
     "name": "stderr",
     "output_type": "stream",
     "text": [
      "/Users/coremptiness/opt/anaconda3/lib/python3.9/site-packages/xgboost/sklearn.py:1224: UserWarning: The use of label encoder in XGBClassifier is deprecated and will be removed in a future release. To remove this warning, do the following: 1) Pass option use_label_encoder=False when constructing XGBClassifier object; and 2) Encode your labels (y) as integers starting with 0, i.e. 0, 1, 2, ..., [num_class - 1].\n",
      "  warnings.warn(label_encoder_deprecation_msg, UserWarning)\n",
      "/Users/coremptiness/opt/anaconda3/lib/python3.9/site-packages/xgboost/data.py:262: FutureWarning: pandas.Int64Index is deprecated and will be removed from pandas in a future version. Use pandas.Index with the appropriate dtype instead.\n",
      "  elif isinstance(data.columns, (pd.Int64Index, pd.RangeIndex)):\n",
      "/Users/coremptiness/opt/anaconda3/lib/python3.9/site-packages/xgboost/sklearn.py:1224: UserWarning: The use of label encoder in XGBClassifier is deprecated and will be removed in a future release. To remove this warning, do the following: 1) Pass option use_label_encoder=False when constructing XGBClassifier object; and 2) Encode your labels (y) as integers starting with 0, i.e. 0, 1, 2, ..., [num_class - 1].\n",
      "  warnings.warn(label_encoder_deprecation_msg, UserWarning)\n",
      "/Users/coremptiness/opt/anaconda3/lib/python3.9/site-packages/xgboost/data.py:262: FutureWarning: pandas.Int64Index is deprecated and will be removed from pandas in a future version. Use pandas.Index with the appropriate dtype instead.\n",
      "  elif isinstance(data.columns, (pd.Int64Index, pd.RangeIndex)):\n",
      "/Users/coremptiness/opt/anaconda3/lib/python3.9/site-packages/xgboost/sklearn.py:1224: UserWarning: The use of label encoder in XGBClassifier is deprecated and will be removed in a future release. To remove this warning, do the following: 1) Pass option use_label_encoder=False when constructing XGBClassifier object; and 2) Encode your labels (y) as integers starting with 0, i.e. 0, 1, 2, ..., [num_class - 1].\n",
      "  warnings.warn(label_encoder_deprecation_msg, UserWarning)\n",
      "/Users/coremptiness/opt/anaconda3/lib/python3.9/site-packages/xgboost/data.py:262: FutureWarning: pandas.Int64Index is deprecated and will be removed from pandas in a future version. Use pandas.Index with the appropriate dtype instead.\n",
      "  elif isinstance(data.columns, (pd.Int64Index, pd.RangeIndex)):\n",
      "/Users/coremptiness/opt/anaconda3/lib/python3.9/site-packages/xgboost/sklearn.py:1224: UserWarning: The use of label encoder in XGBClassifier is deprecated and will be removed in a future release. To remove this warning, do the following: 1) Pass option use_label_encoder=False when constructing XGBClassifier object; and 2) Encode your labels (y) as integers starting with 0, i.e. 0, 1, 2, ..., [num_class - 1].\n",
      "  warnings.warn(label_encoder_deprecation_msg, UserWarning)\n",
      "/Users/coremptiness/opt/anaconda3/lib/python3.9/site-packages/xgboost/data.py:262: FutureWarning: pandas.Int64Index is deprecated and will be removed from pandas in a future version. Use pandas.Index with the appropriate dtype instead.\n",
      "  elif isinstance(data.columns, (pd.Int64Index, pd.RangeIndex)):\n",
      "/Users/coremptiness/opt/anaconda3/lib/python3.9/site-packages/xgboost/sklearn.py:1224: UserWarning: The use of label encoder in XGBClassifier is deprecated and will be removed in a future release. To remove this warning, do the following: 1) Pass option use_label_encoder=False when constructing XGBClassifier object; and 2) Encode your labels (y) as integers starting with 0, i.e. 0, 1, 2, ..., [num_class - 1].\n",
      "  warnings.warn(label_encoder_deprecation_msg, UserWarning)\n",
      "/Users/coremptiness/opt/anaconda3/lib/python3.9/site-packages/xgboost/data.py:262: FutureWarning: pandas.Int64Index is deprecated and will be removed from pandas in a future version. Use pandas.Index with the appropriate dtype instead.\n",
      "  elif isinstance(data.columns, (pd.Int64Index, pd.RangeIndex)):\n",
      "/Users/coremptiness/opt/anaconda3/lib/python3.9/site-packages/xgboost/sklearn.py:1224: UserWarning: The use of label encoder in XGBClassifier is deprecated and will be removed in a future release. To remove this warning, do the following: 1) Pass option use_label_encoder=False when constructing XGBClassifier object; and 2) Encode your labels (y) as integers starting with 0, i.e. 0, 1, 2, ..., [num_class - 1].\n",
      "  warnings.warn(label_encoder_deprecation_msg, UserWarning)\n",
      "/Users/coremptiness/opt/anaconda3/lib/python3.9/site-packages/xgboost/data.py:262: FutureWarning: pandas.Int64Index is deprecated and will be removed from pandas in a future version. Use pandas.Index with the appropriate dtype instead.\n",
      "  elif isinstance(data.columns, (pd.Int64Index, pd.RangeIndex)):\n",
      "/Users/coremptiness/opt/anaconda3/lib/python3.9/site-packages/xgboost/sklearn.py:1224: UserWarning: The use of label encoder in XGBClassifier is deprecated and will be removed in a future release. To remove this warning, do the following: 1) Pass option use_label_encoder=False when constructing XGBClassifier object; and 2) Encode your labels (y) as integers starting with 0, i.e. 0, 1, 2, ..., [num_class - 1].\n",
      "  warnings.warn(label_encoder_deprecation_msg, UserWarning)\n",
      "/Users/coremptiness/opt/anaconda3/lib/python3.9/site-packages/xgboost/data.py:262: FutureWarning: pandas.Int64Index is deprecated and will be removed from pandas in a future version. Use pandas.Index with the appropriate dtype instead.\n",
      "  elif isinstance(data.columns, (pd.Int64Index, pd.RangeIndex)):\n",
      "/Users/coremptiness/opt/anaconda3/lib/python3.9/site-packages/xgboost/sklearn.py:1224: UserWarning: The use of label encoder in XGBClassifier is deprecated and will be removed in a future release. To remove this warning, do the following: 1) Pass option use_label_encoder=False when constructing XGBClassifier object; and 2) Encode your labels (y) as integers starting with 0, i.e. 0, 1, 2, ..., [num_class - 1].\n",
      "  warnings.warn(label_encoder_deprecation_msg, UserWarning)\n",
      "/Users/coremptiness/opt/anaconda3/lib/python3.9/site-packages/xgboost/data.py:262: FutureWarning: pandas.Int64Index is deprecated and will be removed from pandas in a future version. Use pandas.Index with the appropriate dtype instead.\n",
      "  elif isinstance(data.columns, (pd.Int64Index, pd.RangeIndex)):\n",
      "/Users/coremptiness/opt/anaconda3/lib/python3.9/site-packages/xgboost/sklearn.py:1224: UserWarning: The use of label encoder in XGBClassifier is deprecated and will be removed in a future release. To remove this warning, do the following: 1) Pass option use_label_encoder=False when constructing XGBClassifier object; and 2) Encode your labels (y) as integers starting with 0, i.e. 0, 1, 2, ..., [num_class - 1].\n",
      "  warnings.warn(label_encoder_deprecation_msg, UserWarning)\n",
      "/Users/coremptiness/opt/anaconda3/lib/python3.9/site-packages/xgboost/data.py:262: FutureWarning: pandas.Int64Index is deprecated and will be removed from pandas in a future version. Use pandas.Index with the appropriate dtype instead.\n",
      "  elif isinstance(data.columns, (pd.Int64Index, pd.RangeIndex)):\n",
      "/Users/coremptiness/opt/anaconda3/lib/python3.9/site-packages/xgboost/sklearn.py:1224: UserWarning: The use of label encoder in XGBClassifier is deprecated and will be removed in a future release. To remove this warning, do the following: 1) Pass option use_label_encoder=False when constructing XGBClassifier object; and 2) Encode your labels (y) as integers starting with 0, i.e. 0, 1, 2, ..., [num_class - 1].\n",
      "  warnings.warn(label_encoder_deprecation_msg, UserWarning)\n",
      "/Users/coremptiness/opt/anaconda3/lib/python3.9/site-packages/xgboost/data.py:262: FutureWarning: pandas.Int64Index is deprecated and will be removed from pandas in a future version. Use pandas.Index with the appropriate dtype instead.\n",
      "  elif isinstance(data.columns, (pd.Int64Index, pd.RangeIndex)):\n",
      "The use of label encoder in XGBClassifier is deprecated and will be removed in a future release. To remove this warning, do the following: 1) Pass option use_label_encoder=False when constructing XGBClassifier object; and 2) Encode your labels (y) as integers starting with 0, i.e. 0, 1, 2, ..., [num_class - 1].\n",
      "pandas.Int64Index is deprecated and will be removed from pandas in a future version. Use pandas.Index with the appropriate dtype instead.\n"
     ]
    },
    {
     "name": "stdout",
     "output_type": "stream",
     "text": [
      "{'xgb__eta': 0.1, 'xgb__eval_metric': 'auc', 'xgb__max_depth': 5, 'xgb__n_estimators': 80}\n",
      "CPU times: user 40.9 s, sys: 979 ms, total: 41.8 s\n",
      "Wall time: 9min 47s\n"
     ]
    }
   ],
   "source": [
    "%time model_fit('xgb', new_X_train, y_train, pipe_xgb, params_xgb)"
   ]
  },
  {
   "cell_type": "code",
   "execution_count": 31,
   "id": "89c6a3ce",
   "metadata": {},
   "outputs": [],
   "source": [
    "#define empty dataframe to store the results\n",
    "result = pd.DataFrame()"
   ]
  },
  {
   "cell_type": "code",
   "execution_count": 32,
   "id": "72631d1c",
   "metadata": {},
   "outputs": [
    {
     "name": "stdout",
     "output_type": "stream",
     "text": [
      "Pipeline(steps=[('ada',\n",
      "                 AdaBoostClassifier(learning_rate=0.1, n_estimators=350))])\n",
      "Classification Report\n",
      "              precision    recall  f1-score   support\n",
      "\n",
      "           0       0.99      0.99      0.99     28352\n",
      "           1       0.88      0.92      0.90      2596\n",
      "\n",
      "    accuracy                           0.98     30948\n",
      "   macro avg       0.94      0.96      0.95     30948\n",
      "weighted avg       0.98      0.98      0.98     30948\n",
      "\n",
      "Confusion Matrix\n"
     ]
    },
    {
     "data": {
      "image/png": "[encoded data removed]",
      "text/plain": [
       "<Figure size 800x400 with 2 Axes>"
      ]
     },
     "metadata": {},
     "output_type": "display_data"
    },
    {
     "name": "stdout",
     "output_type": "stream",
     "text": [
      "Train f1: 0.902\n",
      "Test f1: 0.901\n",
      "f1 generalisation: 0.111\n",
      "Test FAR: 1.17%\n",
      "Test FNR: 7.55%\n"
     ]
    }
   ],
   "source": [
    "#Model 1: ada\n",
    "result = model_plot(result, 'ada', new_X_train, new_X_test, y_train, y_test)"
   ]
  },
  {
   "cell_type": "code",
   "execution_count": 33,
   "id": "d3cbd089",
   "metadata": {
    "scrolled": false
   },
   "outputs": [
    {
     "name": "stdout",
     "output_type": "stream",
     "text": [
      "Pipeline(steps=[('cat',\n",
      "                 <catboost.core.CatBoostClassifier object at 0x7ff0c76532e0>)])\n",
      "Classification Report\n",
      "              precision    recall  f1-score   support\n",
      "\n",
      "           0       1.00      0.98      0.99     28352\n",
      "           1       0.82      0.99      0.89      2596\n",
      "\n",
      "    accuracy                           0.98     30948\n",
      "   macro avg       0.91      0.98      0.94     30948\n",
      "weighted avg       0.98      0.98      0.98     30948\n",
      "\n",
      "Confusion Matrix\n"
     ]
    },
    {
     "data": {
      "image/png": "[encoded data removed]",
      "text/plain": [
       "<Figure size 800x400 with 2 Axes>"
      ]
     },
     "metadata": {},
     "output_type": "display_data"
    },
    {
     "name": "stdout",
     "output_type": "stream",
     "text": [
      "Train f1: 0.919\n",
      "Test f1: 0.893\n",
      "f1 generalisation: 2.829\n",
      "Test FAR: 2.04%\n",
      "Test FNR: 1.46%\n"
     ]
    }
   ],
   "source": [
    "#Model 2: cat\n",
    "result = model_plot(result, 'cat', new_X_train, new_X_test, y_train, y_test)"
   ]
  },
  {
   "cell_type": "code",
   "execution_count": 34,
   "id": "6b827af5",
   "metadata": {},
   "outputs": [
    {
     "name": "stderr",
     "output_type": "stream",
     "text": [
      "pandas.Int64Index is deprecated and will be removed from pandas in a future version. Use pandas.Index with the appropriate dtype instead.\n",
      "pandas.Int64Index is deprecated and will be removed from pandas in a future version. Use pandas.Index with the appropriate dtype instead.\n"
     ]
    },
    {
     "name": "stdout",
     "output_type": "stream",
     "text": [
      "Pipeline(steps=[('xgb',\n",
      "                 XGBClassifier(base_score=0.5, booster='gbtree',\n",
      "                               colsample_bylevel=1, colsample_bynode=1,\n",
      "                               colsample_bytree=1, enable_categorical=False,\n",
      "                               eta=0.1, eval_metric='auc', gamma=0, gpu_id=-1,\n",
      "                               importance_type=None, interaction_constraints='',\n",
      "                               learning_rate=0.100000001, max_delta_step=0,\n",
      "                               max_depth=5, min_child_weight=1, missing=nan,\n",
      "                               monotone_constraints='()', n_estimators=80,\n",
      "                               n_jobs=-1, num_parallel_tree=1, predictor='auto',\n",
      "                               random_state=0, reg_alpha=0, reg_lambda=1,\n",
      "                               scale_pos_weight=1, subsample=1,\n",
      "                               tree_method='exact', validate_parameters=1,\n",
      "                               verbosity=None))])\n",
      "Classification Report\n",
      "              precision    recall  f1-score   support\n",
      "\n",
      "           0       0.99      0.99      0.99     28352\n",
      "           1       0.91      0.90      0.91      2596\n",
      "\n",
      "    accuracy                           0.98     30948\n",
      "   macro avg       0.95      0.95      0.95     30948\n",
      "weighted avg       0.98      0.98      0.98     30948\n",
      "\n",
      "Confusion Matrix\n"
     ]
    },
    {
     "data": {
      "image/png": "[encoded data removed]",
      "text/plain": [
       "<Figure size 800x400 with 2 Axes>"
      ]
     },
     "metadata": {},
     "output_type": "display_data"
    },
    {
     "name": "stdout",
     "output_type": "stream",
     "text": [
      "Train f1: 0.921\n",
      "Test f1: 0.908\n",
      "f1 generalisation: 1.412\n",
      "Test FAR: 0.78%\n",
      "Test FNR: 9.75%\n"
     ]
    }
   ],
   "source": [
    "#Model 3: xgb\n",
    "result = model_plot(result, 'xgb', new_X_train, new_X_test, y_train, y_test)"
   ]
  },
  {
   "cell_type": "code",
   "execution_count": 35,
   "id": "7cc88c86",
   "metadata": {
    "scrolled": false
   },
   "outputs": [
    {
     "data": {
      "text/html": [
       "<div>\n",
       "<style scoped>\n",
       "    .dataframe tbody tr th:only-of-type {\n",
       "        vertical-align: middle;\n",
       "    }\n",
       "\n",
       "    .dataframe tbody tr th {\n",
       "        vertical-align: top;\n",
       "    }\n",
       "\n",
       "    .dataframe thead th {\n",
       "        text-align: right;\n",
       "    }\n",
       "</style>\n",
       "<table border=\"1\" class=\"dataframe\">\n",
       "  <thead>\n",
       "    <tr style=\"text-align: right;\">\n",
       "      <th></th>\n",
       "      <th>model</th>\n",
       "      <th>train_accuracy</th>\n",
       "      <th>train_recall</th>\n",
       "      <th>train_precision</th>\n",
       "      <th>train_f1</th>\n",
       "      <th>train_roc_auc</th>\n",
       "      <th>test_accuracy</th>\n",
       "      <th>test_recall</th>\n",
       "      <th>test_precision</th>\n",
       "      <th>test_f1</th>\n",
       "      <th>test_roc_auc</th>\n",
       "      <th>gen_accuracy</th>\n",
       "      <th>gen_recall</th>\n",
       "      <th>gen_precision</th>\n",
       "      <th>gen_f1</th>\n",
       "      <th>gen_roc_auc</th>\n",
       "      <th>best_params</th>\n",
       "      <th>fpr</th>\n",
       "      <th>tpr</th>\n",
       "      <th>precision</th>\n",
       "      <th>recall</th>\n",
       "    </tr>\n",
       "  </thead>\n",
       "  <tbody>\n",
       "    <tr>\n",
       "      <th>0</th>\n",
       "      <td>ada</td>\n",
       "      <td>0.983</td>\n",
       "      <td>0.926</td>\n",
       "      <td>0.880</td>\n",
       "      <td>0.902</td>\n",
       "      <td>0.957</td>\n",
       "      <td>0.983</td>\n",
       "      <td>0.924</td>\n",
       "      <td>0.878</td>\n",
       "      <td>0.901</td>\n",
       "      <td>0.956</td>\n",
       "      <td>0.000</td>\n",
       "      <td>0.216</td>\n",
       "      <td>0.227</td>\n",
       "      <td>0.111</td>\n",
       "      <td>0.104</td>\n",
       "      <td>((DecisionTreeClassifier(max_depth=1, random_s...</td>\n",
       "      <td>[0.0, 0.0, 0.0, 0.0, 0.0, 0.0, 0.0, 0.0, 0.0, ...</td>\n",
       "      <td>[0.0, 0.1721879815100154, 0.17565485362095531,...</td>\n",
       "      <td>[0.08388264185084658, 0.08389077395378898, 0.0...</td>\n",
       "      <td>[1.0, 1.0, 1.0, 1.0, 1.0, 1.0, 1.0, 1.0, 1.0, ...</td>\n",
       "    </tr>\n",
       "    <tr>\n",
       "      <th>1</th>\n",
       "      <td>cat</td>\n",
       "      <td>0.985</td>\n",
       "      <td>1.000</td>\n",
       "      <td>0.850</td>\n",
       "      <td>0.919</td>\n",
       "      <td>0.992</td>\n",
       "      <td>0.980</td>\n",
       "      <td>0.985</td>\n",
       "      <td>0.816</td>\n",
       "      <td>0.893</td>\n",
       "      <td>0.983</td>\n",
       "      <td>0.508</td>\n",
       "      <td>1.500</td>\n",
       "      <td>4.000</td>\n",
       "      <td>2.829</td>\n",
       "      <td>0.907</td>\n",
       "      <td>(&lt;catboost.core.CatBoostClassifier object at 0...</td>\n",
       "      <td>[0.0, 0.0, 0.0, 0.0, 0.0, 0.0, 0.0, 0.0, 0.0, ...</td>\n",
       "      <td>[0.0, 0.0003852080123266564, 0.050077041602465...</td>\n",
       "      <td>[0.08388264185084658, 0.08388535237664393, 0.0...</td>\n",
       "      <td>[1.0, 1.0, 1.0, 1.0, 1.0, 1.0, 1.0, 1.0, 1.0, ...</td>\n",
       "    </tr>\n",
       "    <tr>\n",
       "      <th>2</th>\n",
       "      <td>xgb</td>\n",
       "      <td>0.987</td>\n",
       "      <td>0.910</td>\n",
       "      <td>0.932</td>\n",
       "      <td>0.921</td>\n",
       "      <td>0.952</td>\n",
       "      <td>0.985</td>\n",
       "      <td>0.903</td>\n",
       "      <td>0.914</td>\n",
       "      <td>0.908</td>\n",
       "      <td>0.947</td>\n",
       "      <td>0.203</td>\n",
       "      <td>0.769</td>\n",
       "      <td>1.931</td>\n",
       "      <td>1.412</td>\n",
       "      <td>0.525</td>\n",
       "      <td>(XGBClassifier(base_score=0.5, booster='gbtree...</td>\n",
       "      <td>[0.0, 0.0, 0.0, 0.0, 0.0, 0.0, 0.0, 0.0, 0.0, ...</td>\n",
       "      <td>[0.0, 0.03697996918335902, 0.03813559322033898...</td>\n",
       "      <td>[0.08388264185084658, 0.5033934458018228, 0.50...</td>\n",
       "      <td>[1.0, 1.0, 1.0, 1.0, 1.0, 1.0, 1.0, 1.0, 1.0, ...</td>\n",
       "    </tr>\n",
       "  </tbody>\n",
       "</table>\n",
       "</div>"
      ],
      "text/plain": [
       "  model  train_accuracy  train_recall  train_precision  train_f1  \\\n",
       "0   ada           0.983         0.926            0.880     0.902   \n",
       "1   cat           0.985         1.000            0.850     0.919   \n",
       "2   xgb           0.987         0.910            0.932     0.921   \n",
       "\n",
       "   train_roc_auc  test_accuracy  test_recall  test_precision  test_f1  \\\n",
       "0          0.957          0.983        0.924           0.878    0.901   \n",
       "1          0.992          0.980        0.985           0.816    0.893   \n",
       "2          0.952          0.985        0.903           0.914    0.908   \n",
       "\n",
       "   test_roc_auc  gen_accuracy  gen_recall  gen_precision  gen_f1  gen_roc_auc  \\\n",
       "0         0.956         0.000       0.216          0.227   0.111        0.104   \n",
       "1         0.983         0.508       1.500          4.000   2.829        0.907   \n",
       "2         0.947         0.203       0.769          1.931   1.412        0.525   \n",
       "\n",
       "                                         best_params  \\\n",
       "0  ((DecisionTreeClassifier(max_depth=1, random_s...   \n",
       "1  (<catboost.core.CatBoostClassifier object at 0...   \n",
       "2  (XGBClassifier(base_score=0.5, booster='gbtree...   \n",
       "\n",
       "                                                 fpr  \\\n",
       "0  [0.0, 0.0, 0.0, 0.0, 0.0, 0.0, 0.0, 0.0, 0.0, ...   \n",
       "1  [0.0, 0.0, 0.0, 0.0, 0.0, 0.0, 0.0, 0.0, 0.0, ...   \n",
       "2  [0.0, 0.0, 0.0, 0.0, 0.0, 0.0, 0.0, 0.0, 0.0, ...   \n",
       "\n",
       "                                                 tpr  \\\n",
       "0  [0.0, 0.1721879815100154, 0.17565485362095531,...   \n",
       "1  [0.0, 0.0003852080123266564, 0.050077041602465...   \n",
       "2  [0.0, 0.03697996918335902, 0.03813559322033898...   \n",
       "\n",
       "                                           precision  \\\n",
       "0  [0.08388264185084658, 0.08389077395378898, 0.0...   \n",
       "1  [0.08388264185084658, 0.08388535237664393, 0.0...   \n",
       "2  [0.08388264185084658, 0.5033934458018228, 0.50...   \n",
       "\n",
       "                                              recall  \n",
       "0  [1.0, 1.0, 1.0, 1.0, 1.0, 1.0, 1.0, 1.0, 1.0, ...  \n",
       "1  [1.0, 1.0, 1.0, 1.0, 1.0, 1.0, 1.0, 1.0, 1.0, ...  \n",
       "2  [1.0, 1.0, 1.0, 1.0, 1.0, 1.0, 1.0, 1.0, 1.0, ...  "
      ]
     },
     "execution_count": 35,
     "metadata": {},
     "output_type": "execute_result"
    }
   ],
   "source": [
    "result"
   ]
  },
  {
   "cell_type": "code",
   "execution_count": 74,
   "id": "cec4cd74",
   "metadata": {
    "scrolled": false
   },
   "outputs": [
    {
     "name": "stderr",
     "output_type": "stream",
     "text": [
      "pandas.Int64Index is deprecated and will be removed from pandas in a future version. Use pandas.Index with the appropriate dtype instead.\n"
     ]
    },
    {
     "data": {
      "image/png": "[encoded data removed]",
      "text/plain": [
       "<Figure size 1200x600 with 1 Axes>"
      ]
     },
     "metadata": {},
     "output_type": "display_data"
    }
   ],
   "source": [
    "#Precision-Recall Curve\n",
    "fig, ax = plt.subplots(figsize = (12,6))\n",
    "\n",
    "color = ['green','magenta','purple','red','orange','cyan']\n",
    "\n",
    "# plot PR curves\n",
    "for i in range(len(result)):\n",
    "\n",
    "    name = result['model'][i]    \n",
    "    model = joblib.load(f'../model/{name}.pickle')\n",
    "    #plt.plot(result['precision'][i], result['recall'][i], linestyle='--',color=color[i], label=f\"{result['model'][i]}\")\n",
    "    \n",
    "    PrecisionRecallDisplay.from_estimator(model, new_X_test, y_test, name=result['model'][i], linestyle='--',color=color[i], ax=ax)\n",
    "    \n",
    "#plot baseline\n",
    "# baseline = len(y_test[y_test==1]) / len(y_test)\n",
    "# plt.axhline(y= baseline, linestyle='-.', label = f\"Baseline {round(baseline,2)}\")\n",
    "\n",
    "plt.title('Precision-Recall curve')\n",
    "plt.xlabel('Recall')\n",
    "plt.ylabel('Precision')\n",
    "\n",
    "plt.legend(loc='upper left')\n",
    "plt.show();"
   ]
  },
  {
   "cell_type": "markdown",
   "id": "64f0f8bf",
   "metadata": {},
   "source": [
    "Based on the results, all three models generalised quite well (no overfitting) based on the variance in F1 score between the train and test data. The models also have similar precision-recall score. Hence, we will choose the model with the best FNR and FPR.\n",
    "\n",
    "The CatBoost model is selected as it is the fastest and has the best recall score. We want the best recall score as we aimed to reduce the number of false negative (ie classifying attack as normal traffic). This is also shown from the low FNR of 1.46% Whilst the CatBoost model has the highest FPR among the models, this is a compromise of having a low FNR."
   ]
  },
  {
   "cell_type": "markdown",
   "id": "9e4552a8",
   "metadata": {},
   "source": [
    "### Test the model with the holdout dataset"
   ]
  },
  {
   "cell_type": "code",
   "execution_count": 49,
   "id": "b581102b",
   "metadata": {},
   "outputs": [],
   "source": [
    "#dummy categorical cols\n",
    "enc = OneHotEncoder(handle_unknown=\"ignore\", sparse=False)\n",
    "\n",
    "enc.fit(X.select_dtypes(include=\"object\"))\n",
    "\n",
    "enc_train = pd.DataFrame(\n",
    "    enc.transform(X.select_dtypes(include=\"object\")),\n",
    "    columns=enc.get_feature_names_out(),\n",
    ")\n",
    "\n",
    "enc_test = pd.DataFrame(\n",
    "    enc.transform(test_x.select_dtypes(include=\"object\")),\n",
    "    columns=enc.get_feature_names_out(),\n",
    ")\n",
    "\n",
    "enc_train.index = X.index\n",
    "enc_test.index = test_x.index"
   ]
  },
  {
   "cell_type": "code",
   "execution_count": 50,
   "id": "d2a06f35",
   "metadata": {},
   "outputs": [
    {
     "data": {
      "text/plain": [
       "(103158, 15)"
      ]
     },
     "metadata": {},
     "output_type": "display_data"
    },
    {
     "data": {
      "text/plain": [
       "(928137, 15)"
      ]
     },
     "metadata": {},
     "output_type": "display_data"
    }
   ],
   "source": [
    "display(enc_train.shape)\n",
    "display(enc_test.shape)"
   ]
  },
  {
   "cell_type": "code",
   "execution_count": 51,
   "id": "633f4456",
   "metadata": {},
   "outputs": [],
   "source": [
    "# Scale numerical cols\n",
    "MMsc = MinMaxScaler()\n",
    "\n",
    "MMsc.fit(X.select_dtypes(exclude=object))\n",
    "\n",
    "MM_train = pd.DataFrame(MMsc.transform(X.select_dtypes(exclude=object)),\n",
    "    columns=MMsc.get_feature_names_out())\n",
    "\n",
    "MM_test = pd.DataFrame(MMsc.transform(test_x.select_dtypes(exclude=object)),\n",
    "    columns=MMsc.get_feature_names_out())\n",
    "\n",
    "MM_train.index = X.index\n",
    "MM_test.index = test_x.index"
   ]
  },
  {
   "cell_type": "code",
   "execution_count": 52,
   "id": "dc0c81eb",
   "metadata": {},
   "outputs": [],
   "source": [
    "#combine df for MinMax Scalar\n",
    "new_train = pd.concat([enc_train, MM_train], axis=1)\n",
    "new_test = pd.concat([enc_test, MM_test], axis=1)"
   ]
  },
  {
   "cell_type": "code",
   "execution_count": 53,
   "id": "98d4ac55",
   "metadata": {},
   "outputs": [
    {
     "data": {
      "text/plain": [
       "(103158, 44)"
      ]
     },
     "metadata": {},
     "output_type": "display_data"
    },
    {
     "data": {
      "text/plain": [
       "(928137, 44)"
      ]
     },
     "metadata": {},
     "output_type": "display_data"
    }
   ],
   "source": [
    "display(new_train.shape)\n",
    "display(new_test.shape)"
   ]
  },
  {
   "cell_type": "code",
   "execution_count": 54,
   "id": "5c5b4efe",
   "metadata": {},
   "outputs": [],
   "source": [
    "cat = CatBoostClassifier(verbose= False, \n",
    "                         auto_class_weights = 'Balanced', \n",
    "                         depth =  7, iterations = 500, \n",
    "                         learning_rate =  0.1)"
   ]
  },
  {
   "cell_type": "code",
   "execution_count": 55,
   "id": "3e16b85b",
   "metadata": {},
   "outputs": [
    {
     "name": "stdout",
     "output_type": "stream",
     "text": [
      "CPU times: user 32.5 s, sys: 1.72 s, total: 34.2 s\n",
      "Wall time: 13.1 s\n"
     ]
    },
    {
     "data": {
      "text/plain": [
       "<catboost.core.CatBoostClassifier at 0x7ff0c8bb3b80>"
      ]
     },
     "execution_count": 55,
     "metadata": {},
     "output_type": "execute_result"
    }
   ],
   "source": [
    "%time cat.fit(new_train, y)"
   ]
  },
  {
   "cell_type": "code",
   "execution_count": 56,
   "id": "659ee9e0",
   "metadata": {},
   "outputs": [],
   "source": [
    "test_pred = cat.predict(new_test)"
   ]
  },
  {
   "cell_type": "code",
   "execution_count": 57,
   "id": "c30467fb",
   "metadata": {},
   "outputs": [],
   "source": [
    "y_check = pd.DataFrame()\n",
    "y_check['Original'] = test_y\n",
    "y_check['Predict'] = test_pred"
   ]
  },
  {
   "cell_type": "code",
   "execution_count": 58,
   "id": "1836f406",
   "metadata": {},
   "outputs": [
    {
     "name": "stdout",
     "output_type": "stream",
     "text": [
      "Test FAR: 2.45%\n",
      "Test FNR: 0.54%\n"
     ]
    },
    {
     "data": {
      "image/png": "[encoded data removed]",
      "text/plain": [
       "<Figure size 640x480 with 1 Axes>"
      ]
     },
     "metadata": {},
     "output_type": "display_data"
    }
   ],
   "source": [
    "#Baseline confusion matrix\n",
    "cm = confusion_matrix(y_check['Original'], y_check['Predict'])\n",
    "\n",
    "ConfusionMatrixDisplay(confusion_matrix=cm, \n",
    "                       display_labels=['normal', 'malicious']).plot(values_format='d', \n",
    "                                                                    colorbar = False, cmap='YlGn') \n",
    "TN = cm[0][0]\n",
    "FP = cm[0][1]\n",
    "FN = cm[1][0]\n",
    "TP = cm[1][1]\n",
    "    \n",
    "print(f'Test FAR: {round((FP/(FP+TN)*100),2)}%')\n",
    "print(f'Test FNR: {round((FN/(TP+FN)*100),2)}%')\n",
    "\n",
    "\n",
    "plt.show()"
   ]
  },
  {
   "cell_type": "markdown",
   "id": "30b2fdac",
   "metadata": {},
   "source": [
    "### Feature Importance"
   ]
  },
  {
   "cell_type": "code",
   "execution_count": 59,
   "id": "49db9a7d",
   "metadata": {},
   "outputs": [],
   "source": [
    "#load best model\n",
    "best = joblib.load('../model/s1_cat.pickle') "
   ]
  },
  {
   "cell_type": "code",
   "execution_count": 60,
   "id": "5175d114",
   "metadata": {},
   "outputs": [],
   "source": [
    "sv_filename = f'../model/shap_values.pickle'"
   ]
  },
  {
   "cell_type": "code",
   "execution_count": null,
   "id": "cf40be51",
   "metadata": {},
   "outputs": [],
   "source": [
    "# Fits the explainer\n",
    "explainer = shap.Explainer(best.predict, new_X_test)\n",
    "# Calculates the SHAP values - It takes some time\n",
    "shap_values = explainer(new_X_test)\n",
    "joblib.dump(shap_values, sv_filename)"
   ]
  },
  {
   "cell_type": "code",
   "execution_count": 61,
   "id": "f2cf7a76",
   "metadata": {},
   "outputs": [],
   "source": [
    "shap_values = joblib.load(sv_filename) "
   ]
  },
  {
   "cell_type": "code",
   "execution_count": 72,
   "id": "a0899172",
   "metadata": {},
   "outputs": [
    {
     "data": {
      "image/png": "[encoded data removed]",
      "text/plain": [
       "<Figure size 800x650 with 1 Axes>"
      ]
     },
     "metadata": {},
     "output_type": "display_data"
    }
   ],
   "source": [
    "shap.plots.bar(shap_values[0])"
   ]
  },
  {
   "cell_type": "code",
   "execution_count": null,
   "id": "32515574",
   "metadata": {},
   "outputs": [],
   "source": []
  }
 ],
 "metadata": {
  "kernelspec": {
   "display_name": "Python 3 (ipykernel)",
   "language": "python",
   "name": "python3"
  },
  "language_info": {
   "codemirror_mode": {
    "name": "ipython",
    "version": 3
   },
   "file_extension": ".py",
   "mimetype": "text/x-python",
   "name": "python",
   "nbconvert_exporter": "python",
   "pygments_lexer": "ipython3",
   "version": "3.9.12"
  }
 },
 "nbformat": 4,
 "nbformat_minor": 5
}
