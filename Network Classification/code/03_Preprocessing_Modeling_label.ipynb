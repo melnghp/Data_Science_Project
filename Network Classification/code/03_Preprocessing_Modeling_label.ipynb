{
 "cells": [
  {
   "cell_type": "markdown",
   "id": "bde281bc",
   "metadata": {},
   "source": [
    "<img src=\"http://imgur.com/1ZcRyrc.png\" style=\"float: left; margin: 20px; height: 55px\">\n",
    "\n",
    "# Capstone: Network Traffic Classification"
   ]
  },
  {
   "cell_type": "markdown",
   "id": "32352724",
   "metadata": {},
   "source": [
    "**Project notebooks:**<br>\n",
    "1 - [Data Import and Cleansing](./01_Data_import_cleaning)<br>\n",
    "2 - [Exploratory Data Analysis](./02_EDA)<br>\n",
    "3 - Preprocessing and Modeling(current notebook)"
   ]
  },
  {
   "cell_type": "markdown",
   "id": "f8e47866",
   "metadata": {},
   "source": [
    "### Data import"
   ]
  },
  {
   "cell_type": "code",
   "execution_count": null,
   "id": "02e0c3fc",
   "metadata": {},
   "outputs": [],
   "source": [
    "import pandas as pd\n",
    "import matplotlib.pyplot as plt\n",
    "import numpy as np\n",
    "import seaborn as sns\n",
    "import joblib\n",
    "import shap\n",
    "\n",
    "pd.set_option('display.max_columns', None)"
   ]
  },
  {
   "cell_type": "code",
   "execution_count": null,
   "id": "421f9f2c",
   "metadata": {},
   "outputs": [],
   "source": [
    "#load dataset \n",
    "train = joblib.load('../dataset/s1_final_train.pickle')\n",
    "test = joblib.load('../dataset/s1_final_test.pickle')"
   ]
  },
  {
   "cell_type": "code",
   "execution_count": null,
   "id": "eb63045c",
   "metadata": {},
   "outputs": [],
   "source": [
    "display(train.shape)\n",
    "display(test.shape)"
   ]
  },
  {
   "cell_type": "markdown",
   "id": "83807cb1",
   "metadata": {},
   "source": [
    "### Pre-processing"
   ]
  },
  {
   "cell_type": "code",
   "execution_count": null,
   "id": "a9a851de",
   "metadata": {},
   "outputs": [],
   "source": [
    "from sklearn.model_selection import train_test_split, GridSearchCV, RandomizedSearchCV\n",
    "from sklearn.preprocessing import MinMaxScaler, OneHotEncoder\n",
    "from imblearn.over_sampling import SMOTE"
   ]
  },
  {
   "cell_type": "code",
   "execution_count": null,
   "id": "0d6cb721",
   "metadata": {},
   "outputs": [],
   "source": [
    "# Create X and y\n",
    "X = train.drop(['label'], axis=1)\n",
    "y = train['label']\n",
    "\n",
    "test_x = test.drop(['label'], axis=1)\n",
    "test_y = test['label']\n",
    "\n",
    "display(X.shape, y.shape)\n",
    "display(test_x.shape, test_y.shape)"
   ]
  },
  {
   "cell_type": "code",
   "execution_count": null,
   "id": "15fbc327",
   "metadata": {},
   "outputs": [],
   "source": [
    "# Create train/test splits\n",
    "X_train, X_test, y_train, y_test = train_test_split(X, y, test_size=0.3, stratify = y, random_state=42)"
   ]
  },
  {
   "cell_type": "code",
   "execution_count": null,
   "id": "1e421e8d",
   "metadata": {},
   "outputs": [],
   "source": [
    "display(X_train.shape, X_test.shape, y_train.shape, y_test.shape)"
   ]
  },
  {
   "cell_type": "markdown",
   "id": "3005fcf1",
   "metadata": {},
   "source": [
    "### Baseline accuracy"
   ]
  },
  {
   "cell_type": "code",
   "execution_count": null,
   "id": "e0e9799d",
   "metadata": {},
   "outputs": [],
   "source": [
    "y_test.value_counts(normalize=True)"
   ]
  },
  {
   "cell_type": "code",
   "execution_count": null,
   "id": "5b08ebc5",
   "metadata": {},
   "outputs": [],
   "source": [
    "#dummy categorical cols\n",
    "enc = OneHotEncoder(handle_unknown=\"ignore\", sparse=False)\n",
    "\n",
    "enc.fit(X_train.select_dtypes(include=\"object\"))\n",
    "\n",
    "enc_X_train = pd.DataFrame(\n",
    "    enc.transform(X_train.select_dtypes(include=\"object\")),\n",
    "    columns=enc.get_feature_names_out(),\n",
    ")\n",
    "\n",
    "enc_X_test = pd.DataFrame(\n",
    "    enc.transform(X_test.select_dtypes(include=\"object\")),\n",
    "    columns=enc.get_feature_names_out(),\n",
    ")\n",
    "\n",
    "enc_test = pd.DataFrame(\n",
    "    enc.transform(test_x.select_dtypes(include=\"object\")),\n",
    "    columns=enc.get_feature_names_out(),\n",
    ")\n",
    "\n",
    "enc_X_train.index = X_train.index\n",
    "enc_X_test.index = X_test.index\n",
    "enc_test.index = test_x.index"
   ]
  },
  {
   "cell_type": "code",
   "execution_count": null,
   "id": "ce5dd0d5",
   "metadata": {},
   "outputs": [],
   "source": [
    "display(enc_X_train.shape)\n",
    "display(enc_X_test.shape)\n",
    "display(enc_test.shape)"
   ]
  },
  {
   "cell_type": "code",
   "execution_count": null,
   "id": "cbcf294a",
   "metadata": {},
   "outputs": [],
   "source": [
    "# Scale numerical cols\n",
    "MMsc = MinMaxScaler()\n",
    "MMsc.fit(X_train.select_dtypes(exclude=object))\n",
    "\n",
    "MM_X_train = pd.DataFrame(MMsc.transform(X_train.select_dtypes(exclude=object)),\n",
    "    columns=MMsc.get_feature_names_out())\n",
    "\n",
    "MM_X_test = pd.DataFrame(MMsc.transform(X_test.select_dtypes(exclude=object)),\n",
    "    columns=MMsc.get_feature_names_out())\n",
    "\n",
    "MM_test = pd.DataFrame(MMsc.transform(test_x.select_dtypes(exclude=object)),\n",
    "    columns=MMsc.get_feature_names_out())\n",
    "\n",
    "MM_X_train.index = X_train.index\n",
    "MM_X_test.index = X_test.index\n",
    "MM_test.index = test_x.index"
   ]
  },
  {
   "cell_type": "code",
   "execution_count": null,
   "id": "ea153bc9",
   "metadata": {},
   "outputs": [],
   "source": [
    "#combine df for MinMax Scalar\n",
    "new_X_train = pd.concat([enc_X_train, MM_X_train], axis=1)\n",
    "new_X_test = pd.concat([enc_X_test, MM_X_test], axis=1)\n",
    "new_test = pd.concat([enc_test, MM_test], axis=1)"
   ]
  },
  {
   "cell_type": "code",
   "execution_count": null,
   "id": "ec5cc913",
   "metadata": {},
   "outputs": [],
   "source": [
    "display(new_X_train.shape)\n",
    "display(new_X_test.shape)\n",
    "display(new_test.shape)"
   ]
  },
  {
   "cell_type": "markdown",
   "id": "4bd2469c",
   "metadata": {},
   "source": [
    "### PCA for feature selection"
   ]
  },
  {
   "cell_type": "code",
   "execution_count": null,
   "id": "0b40135f",
   "metadata": {},
   "outputs": [],
   "source": [
    "# Use PCA to reduce the dimensions to speed up the ML algo without sacrificing much of the explanability. In this case, we want to have 90% of the explanability retained\n",
    "pca_model = PCA(0.9)"
   ]
  },
  {
   "cell_type": "code",
   "execution_count": null,
   "id": "59981313",
   "metadata": {},
   "outputs": [],
   "source": [
    "pca_model.fit(new_X_train)"
   ]
  },
  {
   "cell_type": "code",
   "execution_count": null,
   "id": "4e793837",
   "metadata": {},
   "outputs": [],
   "source": [
    "# to check to make sure that the explained variance is 90%\n",
    "np.sum(pca_model.explained_variance_ratio_)"
   ]
  },
  {
   "cell_type": "code",
   "execution_count": null,
   "id": "29b7926b",
   "metadata": {},
   "outputs": [],
   "source": [
    "# Number of features after PCA\n",
    "pca_model.n_components_ "
   ]
  },
  {
   "cell_type": "code",
   "execution_count": null,
   "id": "dd7f513b",
   "metadata": {},
   "outputs": [],
   "source": []
  },
  {
   "cell_type": "code",
   "execution_count": null,
   "id": "24cdab92",
   "metadata": {},
   "outputs": [],
   "source": []
  },
  {
   "cell_type": "code",
   "execution_count": null,
   "id": "fa69012f",
   "metadata": {},
   "outputs": [],
   "source": []
  },
  {
   "cell_type": "code",
   "execution_count": null,
   "id": "ce04201c",
   "metadata": {},
   "outputs": [],
   "source": []
  },
  {
   "cell_type": "markdown",
   "id": "4e025419",
   "metadata": {},
   "source": [
    "### Pipelines and Parameters"
   ]
  },
  {
   "cell_type": "code",
   "execution_count": null,
   "id": "11a6d21e",
   "metadata": {},
   "outputs": [],
   "source": [
    "# Import libraries\n",
    "from sklearn.decomposition import PCA\n",
    "from imblearn.pipeline import Pipeline\n",
    "from sklearn.linear_model import LogisticRegression\n",
    "from sklearn.metrics import confusion_matrix, ConfusionMatrixDisplay, classification_report, accuracy_score, f1_score, recall_score, precision_score, roc_curve, roc_auc_score\n",
    "from sklearn.naive_bayes import GaussianNB, BernoulliNB, MultinomialNB\n",
    "from sklearn.ensemble import RandomForestClassifier, ExtraTreesClassifier, AdaBoostClassifier, GradientBoostingClassifier\n",
    "from sklearn.tree import DecisionTreeClassifier\n",
    "from sklearn.svm import SVC\n",
    "from xgboost import XGBClassifier\n",
    "from catboost import CatBoostClassifier"
   ]
  },
  {
   "cell_type": "markdown",
   "id": "30fa8904",
   "metadata": {},
   "source": [
    "### Pipeline and Hyperparameter Tuning"
   ]
  },
  {
   "cell_type": "code",
   "execution_count": null,
   "id": "846d8100",
   "metadata": {},
   "outputs": [],
   "source": [
    "# Logistic Regression\n",
    "pipe_lr = Pipeline([('sm', SMOTE()),('lr', LogisticRegression(solver='liblinear'))])\n",
    "\n",
    "# Random Forest      \n",
    "pipe_rf = Pipeline([('rf', RandomForestClassifier(n_jobs=-1))])\n",
    "\n",
    "#SVM\n",
    "pipe_svm = Pipeline([('svm', SVC())])\n",
    "\n",
    "#catboost\n",
    "pipe_cat = Pipeline([('cat', CatBoostClassifier(verbose= False))])\n",
    "\n",
    "# XGBoost      \n",
    "pipe_xgb = Pipeline([('xgb', XGBClassifier(n_jobs=-1))])\n",
    "\n",
    "# AdaBoost      \n",
    "pipe_ada = Pipeline([('ada', AdaBoostClassifier())])\n",
    "\n",
    "# GradientBoost      \n",
    "pipe_gb = Pipeline([('gb', GradientBoostingClassifier())])"
   ]
  },
  {
   "cell_type": "code",
   "execution_count": null,
   "id": "ecbe7cee",
   "metadata": {},
   "outputs": [],
   "source": [
    "params_lr = {\n",
    "    'lr__C': np.linspace(0.1,5,10)\n",
    "}\n",
    "\n",
    "params_rf = {\n",
    "    'rf__max_depth' : [2,4,6],\n",
    "    'rf__n_estimators': [150, 250, 350],\n",
    "    #'rf__min_samples_leaf': [2, 4],\n",
    "    #'rf__min_samples_split' : [1, 2]\n",
    "    'rf__class_weight' : ['balanced', {0:1,1:200}]\n",
    "}\n",
    "\n",
    "#Support Vector Machine\n",
    "params_svm = {\n",
    "    'svm__C': np.logspace(-2, 1, 10),\n",
    "    'svm__gamma':['scale','auto'],\n",
    "    'svm__class_weight':['balanced', {0:1,1:200}],\n",
    "    'svm__probability': [True]\n",
    "}\n",
    "\n",
    "#Support Vector Machine\n",
    "params_cat = {\n",
    "    'cat__depth': [2,4,6],\n",
    "    'cat__learning_rate' : [0.1, 0.05, 0.01],\n",
    "    'cat__iterations': [150, 250, 350],\n",
    "    'cat__auto_class_weights' : ['Balanced']\n",
    "}\n",
    "\n",
    "params_ada = {\n",
    "    'ada__n_estimators': [150, 250, 350],\n",
    "    'ada__learning_rate' : [0.1, 0.05, 0.01]\n",
    "}\n",
    "\n",
    "params_gb = {\n",
    "    'gb__n_estimators': [150, 250, 350],\n",
    "    'gb__max_depth' : [2,4,6],\n",
    "    'gb__learning_rate' : [0.15, 0.1, 0.05],\n",
    "    #'gb__min_samples_split': [2, 4],\n",
    "    #'gb__min_samples_leaf': [1, 2]\n",
    "}\n",
    "\n",
    "params_xgb = {\n",
    "    'xgb__n_estimators': [150, 250, 350],\n",
    "    'xgb__eta' : [0.1, 0.05, 0.01],\n",
    "    'xgb__max_depth' : [2,4,6],\n",
    "    'xgb__eval_metric' : ['error', 'auc']\n",
    "}"
   ]
  },
  {
   "cell_type": "markdown",
   "id": "defd667a",
   "metadata": {},
   "source": [
    "### Modelling"
   ]
  },
  {
   "cell_type": "code",
   "execution_count": null,
   "id": "7962e725",
   "metadata": {},
   "outputs": [],
   "source": [
    "def model_fit(model_name, X_train, y_train, pipe, param):\n",
    "    \n",
    "    gs = GridSearchCV(pipe, param, cv=3, scoring = 'f1', n_jobs=-1)\n",
    "    gs.fit(X_train, y_train)\n",
    "    filename = f'../model/{model_name}.pickle'\n",
    "    joblib.dump(gs.best_estimator_, filename)"
   ]
  },
  {
   "cell_type": "code",
   "execution_count": null,
   "id": "bc18e429",
   "metadata": {},
   "outputs": [],
   "source": [
    "def model_plot(df, model_name, X_train, X_test, y_train, y_test):\n",
    "    \n",
    "    #load model\n",
    "    filename = f'../model/{model_name}.pickle'\n",
    "    model = joblib.load(filename)\n",
    "    \n",
    "    # check for generalisation\n",
    "    y_train_pred = model.predict(X_train)\n",
    "    y_test_pred = model.predict(X_test)\n",
    "    \n",
    "    # Save confusion matrix values\n",
    "    tn, fp, fn, tp = confusion_matrix(y_test, y_test_pred).ravel()\n",
    "    \n",
    "    #train scoring\n",
    "    train_accuracy = round(accuracy_score(y_train, y_train_pred),3)\n",
    "    train_recall = round(recall_score(y_train, y_train_pred),3)\n",
    "    train_f1 = round(f1_score(y_train, y_train_pred),3)\n",
    "    train_precision = round(precision_score(y_train, y_train_pred),3)\n",
    "    train_roc_auc = round(roc_auc_score(y_train, y_train_pred),3)\n",
    "    \n",
    "    #test scoring\n",
    "    test_accuracy = round(accuracy_score(y_test, y_test_pred),3)\n",
    "    test_recall = round(recall_score(y_test, y_test_pred),3)\n",
    "    test_f1 = round(f1_score(y_test, y_test_pred),3)\n",
    "    test_precision = round(precision_score(y_test, y_test_pred),3)\n",
    "    test_roc_auc = round(roc_auc_score(y_test, y_test_pred),3)\n",
    "    \n",
    "    #generalisation\n",
    "    gen_accuracy = round(((train_accuracy - test_accuracy)/train_accuracy * 100),3)\n",
    "    gen_recall = round(((train_recall - test_recall)/train_recall * 100),3)\n",
    "    gen_f1 = round(((train_f1 - test_f1)/train_f1 * 100),3)\n",
    "    gen_precision = round(((train_precision - test_precision)/train_precision * 100),3)\n",
    "    gen_roc_auc = round(((train_roc_auc - test_roc_auc)/train_roc_auc * 100),3)\n",
    "    \n",
    "    #get predicted data points to plot the roc curve\n",
    "    y_proba = model.predict_proba(X_test)\n",
    "    \n",
    "    # roc curve for models\n",
    "    fpr, tpr, thresh = roc_curve(y_test, y_proba[:, 1])\n",
    "\n",
    "    #store values as dictionary\n",
    "    data = {\"model\" : model_name,\n",
    "            \"train_accuracy\" : train_accuracy, \n",
    "            \"train_recall\" : train_recall,\n",
    "            \"train_precision\" : train_precision, \n",
    "            \"train_f1\": train_f1, \n",
    "            \"train_roc_auc\" : train_roc_auc, \n",
    "            \"test_accuracy\" : test_accuracy, \n",
    "            \"test_recall\" : test_recall,\n",
    "            \"test_precision\" : test_precision, \n",
    "            \"test_f1\": test_f1, \n",
    "            \"test_roc_auc\" : test_roc_auc,\n",
    "            \"gen_accuracy\" : gen_accuracy, \n",
    "            \"gen_recall\" : gen_recall,\n",
    "            \"gen_precision\" : gen_precision, \n",
    "            \"gen_f1\": gen_f1, \n",
    "            \"gen_roc_auc\" : gen_roc_auc,\n",
    "            \"best_params\" : model,\n",
    "            \"fpr\" : [fpr], \n",
    "            \"tpr\" : [tpr]}\n",
    "    \n",
    "    # Create DataFrame\n",
    "    result = pd.DataFrame(data)\n",
    "\n",
    "    #append to original df\n",
    "    result = pd.concat([df, result], ignore_index=True)\n",
    "    \n",
    "    print(model)\n",
    "    \n",
    "    print('Classification Report')\n",
    "    print(classification_report(y_test,y_test_pred))\n",
    "    print('Confusion Matrix')\n",
    "    #plot confusion matrix \n",
    "    fig, ax = plt.subplots(1, 2, figsize = (8, 4))\n",
    "    \n",
    "    cm1 = confusion_matrix(y_train, y_train_pred)\n",
    "    ConfusionMatrixDisplay(confusion_matrix=cm1, \n",
    "                               display_labels=['normal', 'malicious']).plot( ax = ax[0], values_format='d', \n",
    "                                                                        colorbar = False, cmap='Blues')  \n",
    "                                #0 is normal, 1 is malicious\n",
    "\n",
    "    ax[0].set_title(f'Train - {model_name}')\n",
    "    \n",
    "    cm2 = confusion_matrix(y_test, y_test_pred)\n",
    "    ConfusionMatrixDisplay(confusion_matrix=cm2, \n",
    "                               display_labels=['normal', 'malicious']).plot(ax = ax[1], values_format='d', \n",
    "                                                                        colorbar = False, cmap='Blues')  \n",
    "\n",
    "    ax[1].set_title(f'Test - {model_name}')   \n",
    "\n",
    "    plt.tight_layout()\n",
    "    plt.show()\n",
    "    \n",
    "    TP = cm2[0][0]\n",
    "    FP = cm2[0][1]\n",
    "    FN = cm2[1][0]\n",
    "    TN = cm2[1][1]\n",
    "    \n",
    "    \n",
    "    print(f'Train f1: {train_f1}')\n",
    "    print(f'Test f1: {test_f1}')\n",
    "    print(f'f1 generalisation: {gen_f1}')\n",
    "    print(f'Test FPR: {round((FP/(FP+TN)*100),2)}%')\n",
    "    print(f'Test FNR: {round((FN/(TP+FN)*100),2)}%')\n",
    "      \n",
    "    return result"
   ]
  },
  {
   "cell_type": "markdown",
   "id": "8812cc66",
   "metadata": {},
   "source": [
    "### Find the best estimators"
   ]
  },
  {
   "cell_type": "code",
   "execution_count": null,
   "id": "d81e7d6d",
   "metadata": {},
   "outputs": [],
   "source": [
    "%time model_fit('s1_lr', new_X_train, y_train, pipe_lr, params_lr)"
   ]
  },
  {
   "cell_type": "code",
   "execution_count": null,
   "id": "5b86295b",
   "metadata": {},
   "outputs": [],
   "source": [
    "%time model_fit('s1_cat', new_X_train, y_train, pipe_cat, params_cat)"
   ]
  },
  {
   "cell_type": "code",
   "execution_count": null,
   "id": "d0ae4eba",
   "metadata": {},
   "outputs": [],
   "source": [
    "%time model_fit('s1_svm', new_X_train, y_train, pipe_svm, params_svm)"
   ]
  },
  {
   "cell_type": "code",
   "execution_count": null,
   "id": "41a7470b",
   "metadata": {},
   "outputs": [],
   "source": [
    "%time model_fit('s1_ada', new_X_train, y_train, pipe_ada, params_ada)"
   ]
  },
  {
   "cell_type": "code",
   "execution_count": null,
   "id": "2f967b79",
   "metadata": {},
   "outputs": [],
   "source": [
    "%time model_fit('s1_rf', new_X_train, y_train, pipe_rf, params_rf)"
   ]
  },
  {
   "cell_type": "code",
   "execution_count": null,
   "id": "b888d95d",
   "metadata": {},
   "outputs": [],
   "source": [
    "%time model_fit('s1_gb', new_X_train, y_train, pipe_gb, params_gb)"
   ]
  },
  {
   "cell_type": "code",
   "execution_count": null,
   "id": "3af2ded3",
   "metadata": {},
   "outputs": [],
   "source": [
    "%time model_fit('s1_xgb', new_X_train, y_train, pipe_xgb, params_xgb)"
   ]
  },
  {
   "cell_type": "code",
   "execution_count": null,
   "id": "f4e3c988",
   "metadata": {},
   "outputs": [],
   "source": [
    "%time model_fit('s1_svm', new_X_train, y_train, pipe_svm, params_svm)"
   ]
  },
  {
   "cell_type": "markdown",
   "id": "6efddd65",
   "metadata": {},
   "source": [
    "### Predict"
   ]
  },
  {
   "cell_type": "code",
   "execution_count": null,
   "id": "89c6a3ce",
   "metadata": {},
   "outputs": [],
   "source": [
    "#define empty dataframe to store the results\n",
    "result = pd.DataFrame()"
   ]
  },
  {
   "cell_type": "code",
   "execution_count": null,
   "id": "3f269af4",
   "metadata": {},
   "outputs": [],
   "source": [
    "#Model 1: lr\n",
    "result = model_plot(result, 's1_lr', new_X_train, new_X_test, y_train, y_test)"
   ]
  },
  {
   "cell_type": "code",
   "execution_count": null,
   "id": "72631d1c",
   "metadata": {},
   "outputs": [],
   "source": [
    "#Model 2: ada\n",
    "result = model_plot(result, 's1_ada', new_X_train, new_X_test, y_train, y_test)"
   ]
  },
  {
   "cell_type": "code",
   "execution_count": null,
   "id": "ac1fed90",
   "metadata": {},
   "outputs": [],
   "source": [
    "#Model 3: lr\n",
    "result = model_plot(result, 's1_rf_gs', new_X_train, new_X_test, y_train, y_test)"
   ]
  },
  {
   "cell_type": "code",
   "execution_count": null,
   "id": "c37b35be",
   "metadata": {},
   "outputs": [],
   "source": [
    "#Model 4: gb\n",
    "result = model_plot(result, 's1_gb', new_X_train, new_X_test, y_train, y_test)"
   ]
  },
  {
   "cell_type": "code",
   "execution_count": null,
   "id": "6b827af5",
   "metadata": {},
   "outputs": [],
   "source": [
    "#Model 5: lr\n",
    "result = model_plot(result, 's1_xgb', new_X_train, new_X_test, y_train, y_test)"
   ]
  },
  {
   "cell_type": "code",
   "execution_count": null,
   "id": "d3cbd089",
   "metadata": {
    "scrolled": true
   },
   "outputs": [],
   "source": [
    "#Model 5: lr\n",
    "result = model_plot(result, 's1_cat', new_X_train, new_X_test, y_train, y_test)"
   ]
  },
  {
   "cell_type": "code",
   "execution_count": null,
   "id": "40af887e",
   "metadata": {},
   "outputs": [],
   "source": [
    "#Model 5: lr\n",
    "result = model_plot(result, 's1_svm', new_X_train, new_X_test, y_train, y_test)"
   ]
  },
  {
   "cell_type": "code",
   "execution_count": null,
   "id": "7cc88c86",
   "metadata": {},
   "outputs": [],
   "source": [
    "result"
   ]
  },
  {
   "cell_type": "code",
   "execution_count": null,
   "id": "37bfab26",
   "metadata": {},
   "outputs": [],
   "source": [
    "# roc curve for tpr = fpr \n",
    "random_probs = [0 for i in range(len(y_test))]\n",
    "p_fpr, p_tpr, _ = roc_curve(y_test, random_probs, pos_label=1)"
   ]
  },
  {
   "cell_type": "code",
   "execution_count": null,
   "id": "2ebe425a",
   "metadata": {},
   "outputs": [],
   "source": [
    "plt.figure(figsize = (12,8))\n",
    "\n",
    "color = ['green','magenta','purple','red','orange','cyan']\n",
    "\n",
    "# plot roc curves\n",
    "for i in range(len(result)):\n",
    "    plt.plot(result['fpr'][i], result['tpr'][i], linestyle='--',color=color[i], label=f\"{result['model'][i]}, AUC=\"+str(round(result['test_roc_auc'][i],2)))\n",
    "\n",
    "#plot random classifier graph\n",
    "plt.plot(p_fpr, p_tpr, linestyle='-.', color='black')\n",
    "\n",
    "plt.title('All_text ROC curve')\n",
    "plt.xlabel('False Positive Rate')\n",
    "plt.ylabel('True Positive Rate')\n",
    "\n",
    "plt.legend(loc='best')\n",
    "plt.show();"
   ]
  },
  {
   "cell_type": "code",
   "execution_count": null,
   "id": "cec4cd74",
   "metadata": {},
   "outputs": [],
   "source": [
    "#Precision-Recall Curve\n",
    "plt.figure(figsize = (12,8))\n",
    "ax.plot(recall_scores, precision_scores, label='Logistic Regression')\n",
    "ax.plot(l2_recall_scores, l2_precision_scores, label='L2 Logistic Regression')\n",
    "baseline = len(y_test[y_test==1]) / len(y_test)\n",
    "ax.plot([0, 1], [baseline, baseline], linestyle='--', label='Baseline')\n",
    "ax.set_xlabel('Recall')\n",
    "ax.set_ylabel('Precision')\n",
    "ax.legend(loc='center left');"
   ]
  },
  {
   "cell_type": "markdown",
   "id": "30b2fdac",
   "metadata": {},
   "source": [
    "### Feature Importance"
   ]
  },
  {
   "cell_type": "code",
   "execution_count": null,
   "id": "49db9a7d",
   "metadata": {},
   "outputs": [],
   "source": [
    "#load best model\n",
    "filename = f'../model/s1_cat.pickle'\n",
    "best = joblib.load(filename) "
   ]
  },
  {
   "cell_type": "code",
   "execution_count": null,
   "id": "cf40be51",
   "metadata": {},
   "outputs": [],
   "source": [
    "# Fits the explainer\n",
    "explainer = shap.Explainer(best.predict, new_X_test)\n",
    "# Calculates the SHAP values - It takes some time\n",
    "shap_values = explainer(new_X_test)"
   ]
  },
  {
   "cell_type": "code",
   "execution_count": null,
   "id": "bb5a582b",
   "metadata": {},
   "outputs": [],
   "source": [
    "# Evaluate SHAP values\n",
    "shap_values = explainer.shap_values(X)"
   ]
  },
  {
   "cell_type": "code",
   "execution_count": null,
   "id": "a0899172",
   "metadata": {},
   "outputs": [],
   "source": [
    "shap.plots.bar(shap_values[0])"
   ]
  },
  {
   "cell_type": "code",
   "execution_count": null,
   "id": "8c688f18",
   "metadata": {},
   "outputs": [],
   "source": [
    "shap.plots.waterfall(shap_values[0])"
   ]
  },
  {
   "cell_type": "code",
   "execution_count": null,
   "id": "88a6cb3c",
   "metadata": {},
   "outputs": [],
   "source": [
    "shap.summary_plot(shap_values)"
   ]
  },
  {
   "cell_type": "code",
   "execution_count": null,
   "id": "6a3f3232",
   "metadata": {},
   "outputs": [],
   "source": [
    "shap.plots.beeswarm(shap_values)"
   ]
  },
  {
   "cell_type": "code",
   "execution_count": null,
   "id": "d16aa1d8",
   "metadata": {},
   "outputs": [],
   "source": [
    "shap.summary_plot(shap_values, plot_type='violin')"
   ]
  },
  {
   "cell_type": "code",
   "execution_count": null,
   "id": "09705239",
   "metadata": {},
   "outputs": [],
   "source": [
    "#get feature names\n",
    "fea_names = new_X_train.columns\n",
    "#get the value of importance\n",
    "impt = best_model.named_steps[\"rf\"].feature_importances_"
   ]
  },
  {
   "cell_type": "code",
   "execution_count": null,
   "id": "942ece5d",
   "metadata": {},
   "outputs": [],
   "source": [
    "df_impt = pd.DataFrame(zip(fea_names,impt), columns = [\"feature\", \"value\"])"
   ]
  },
  {
   "cell_type": "code",
   "execution_count": null,
   "id": "b3de5301",
   "metadata": {},
   "outputs": [],
   "source": [
    "df_impt[\"value\"] = round(df_impt[\"value\"],2)"
   ]
  },
  {
   "cell_type": "code",
   "execution_count": null,
   "id": "667b1cf7",
   "metadata": {},
   "outputs": [],
   "source": [
    "#exclude features that have no importance\n",
    "key_fea = df_impt.loc[df_impt[\"value\"] != 0.0] "
   ]
  },
  {
   "cell_type": "code",
   "execution_count": null,
   "id": "e1f9a089",
   "metadata": {},
   "outputs": [],
   "source": [
    "plt.figure(figsize = (10,6))\n",
    "\n",
    "ax = sns.barplot(x=\"value\", y=\"feature\", data=key_fea.sort_values(by = \"value\", ascending = False))\n",
    "ax.bar_label(ax.containers[0])\n",
    "ax.set_xlabel(\"Importance\")\n",
    "ax.set_ylabel(\"Words\")\n",
    "ax.set_title('Keywords and Importance', fontsize=16)\n",
    "\n",
    "plt.tight_layout()\n",
    "plt.show()"
   ]
  },
  {
   "cell_type": "code",
   "execution_count": null,
   "id": "858048b3",
   "metadata": {},
   "outputs": [],
   "source": []
  },
  {
   "cell_type": "code",
   "execution_count": null,
   "id": "32515574",
   "metadata": {},
   "outputs": [],
   "source": []
  },
  {
   "cell_type": "code",
   "execution_count": null,
   "id": "09013a9e",
   "metadata": {},
   "outputs": [],
   "source": [
    "#load best model\n",
    "filename = f'../model/s1_cat.pickle'\n",
    "best_model = joblib.load(filename)"
   ]
  },
  {
   "cell_type": "code",
   "execution_count": null,
   "id": "62f449e3",
   "metadata": {},
   "outputs": [],
   "source": [
    "predict = best_model.predict(new_test)"
   ]
  },
  {
   "cell_type": "code",
   "execution_count": null,
   "id": "6aad098c",
   "metadata": {},
   "outputs": [],
   "source": [
    "y_check = pd.DataFrame()\n",
    "y_check['Original_y'] = test_y\n",
    "y_check['Predict_y'] = predict"
   ]
  },
  {
   "cell_type": "code",
   "execution_count": null,
   "id": "117ad487",
   "metadata": {},
   "outputs": [],
   "source": [
    "y_check['check'] = y_check.apply(lambda x: 1 if x['Original_y'] ==\n",
    "                     x['Predict_y'] else 0, axis=1)"
   ]
  },
  {
   "cell_type": "code",
   "execution_count": null,
   "id": "6585eeee",
   "metadata": {},
   "outputs": [],
   "source": [
    "y_check.loc[y_check['check'] == 0]['Original_y'].value_counts()"
   ]
  }
 ],
 "metadata": {
  "kernelspec": {
   "display_name": "Python 3 (ipykernel)",
   "language": "python",
   "name": "python3"
  },
  "language_info": {
   "codemirror_mode": {
    "name": "ipython",
    "version": 3
   },
   "file_extension": ".py",
   "mimetype": "text/x-python",
   "name": "python",
   "nbconvert_exporter": "python",
   "pygments_lexer": "ipython3",
   "version": "3.9.12"
  }
 },
 "nbformat": 4,
 "nbformat_minor": 5
}
